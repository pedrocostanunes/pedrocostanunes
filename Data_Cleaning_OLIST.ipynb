{
  "nbformat": 4,
  "nbformat_minor": 0,
  "metadata": {
    "colab": {
      "provenance": [],
      "collapsed_sections": [
        "xTZ-JXQS5QB8",
        "calmUKH-Z6-h",
        "jTR-m8I0aq66",
        "a5aYk3JRr1D8",
        "JaG1e-mXmgCX",
        "Xkl5EyBRb-U_",
        "3WUTJK1dcBFs",
        "3kwrdnpiiucY",
        "cWpVFp9Qs39Z",
        "DpGkBwYyxJ-x",
        "dpXXNJRj4b8B",
        "4RvgXXvzgiz8",
        "n3m1fVF0gtul",
        "olBj_RKMh5Xe",
        "DSakV1t7qwII",
        "E0m1_LMjNYQo",
        "3sPovXNTNsS7",
        "i1QW2sv5N93W",
        "GZPrHSmkl8Ri",
        "G7vWlmoHg0Le",
        "kU4jM_Eb_XpD",
        "Lw4Zcw_nR4xu",
        "uJIjRKq-jSEG",
        "qMIgVjx8nDpp",
        "mPpSwCH22Rak"
      ],
      "authorship_tag": "ABX9TyMRSnCTXNnI6mDAso1YwpG5",
      "include_colab_link": true
    },
    "kernelspec": {
      "name": "python3",
      "display_name": "Python 3"
    },
    "language_info": {
      "name": "python"
    }
  },
  "cells": [
    {
      "cell_type": "markdown",
      "metadata": {
        "id": "view-in-github",
        "colab_type": "text"
      },
      "source": [
        "<a href=\"https://colab.research.google.com/github/pedrocostanunes/pedrocostanunes/blob/main/Data_Cleaning_OLIST.ipynb\" target=\"_parent\"><img src=\"https://colab.research.google.com/assets/colab-badge.svg\" alt=\"Open In Colab\"/></a>"
      ]
    },
    {
      "cell_type": "markdown",
      "source": [
        "## Introdução"
      ],
      "metadata": {
        "id": "xTZ-JXQS5QB8"
      }
    },
    {
      "cell_type": "markdown",
      "source": [
        "---\n",
        "**Pedidos entregues:**\n",
        "\n",
        "Qual a porcentagem de pedidos entregues dentro do prazo?\n",
        "\n",
        "Qual é o tempo médio de entrega dos pedidos em cada estado?\n",
        "\n",
        "Quais categorias de produto possuem menor tempo médio de entrega?\n",
        "\n",
        "---\n",
        "**Influência de preço e pagamento:**\n",
        "\n",
        "O quanto o pagamento influencia no tempo de entrega?\n",
        "\n",
        "Existe alguma correlação entre o tempo de entrega e o valor do frete?\n",
        "\n",
        "Existe alguma correlação entre o tempo de entrega e o preço dos produtos?\n",
        "\n",
        "Qual é o impacto do pagamento à vista ou parcelado no tempo de entrega\n",
        "\n",
        "---\n",
        "**Influência de timing do pedido:**\n",
        "\n",
        "O dia da semana em que o pedido é realizado afeta o tempo de entrega?\n",
        "\n",
        "O horário em que o pedido é realizado afeta o tempo de entrega?\n",
        "\n",
        "---\n",
        "**Influência das características do produto**\n",
        "\n",
        "A categoria do produto influencia no tempo de entrega?\n",
        "\n",
        "O peso dos produtos influencia no tempo de entrega?"
      ],
      "metadata": {
        "id": "DNyeH8tX5T5v"
      }
    },
    {
      "cell_type": "markdown",
      "source": [
        "## Importanto bibliotecas e carregando dados"
      ],
      "metadata": {
        "id": "calmUKH-Z6-h"
      }
    },
    {
      "cell_type": "markdown",
      "source": [
        "Importanto bibliotecas"
      ],
      "metadata": {
        "id": "0JmvHgRC5Xjs"
      }
    },
    {
      "cell_type": "code",
      "execution_count": null,
      "metadata": {
        "id": "VyWudTn0Zx6L"
      },
      "outputs": [],
      "source": [
        "import pandas as pd\n",
        "import numpy as np\n",
        "import matplotlib.pyplot as plt\n",
        "import seaborn as sns\n",
        "from IPython.display import display, HTML"
      ]
    },
    {
      "cell_type": "markdown",
      "source": [
        "Carregando os dados"
      ],
      "metadata": {
        "id": "pyKNfavnaBX7"
      }
    },
    {
      "cell_type": "code",
      "source": [
        "clientes = pd.read_csv('/content/olist_customers_dataset.csv', sep =',')\n",
        "pedidos = pd.read_csv('/content/olist_orders_dataset.csv', sep =',')\n",
        "itens_pedidos = pd.read_csv('/content/olist_order_items_dataset.csv', sep =',')\n",
        "pagamentos = pd.read_csv('/content/olist_order_payments_dataset.csv', sep =',')\n",
        "produtos = pd.read_csv('/content/olist_products_dataset.csv', sep =',')\n",
        "vendedores = pd.read_csv('/content/olist_sellers_dataset.csv', sep =',')\n",
        "geolocalizacao = pd.read_csv('/content/olist_geolocation_dataset.csv', sep =',')"
      ],
      "metadata": {
        "id": "Gw2UNn5CZ5YO"
      },
      "execution_count": null,
      "outputs": []
    },
    {
      "cell_type": "markdown",
      "source": [
        "## Qualidade dos dados"
      ],
      "metadata": {
        "id": "jTR-m8I0aq66"
      }
    },
    {
      "cell_type": "markdown",
      "source": [
        "#### Explorando com o método .info()"
      ],
      "metadata": {
        "id": "a5aYk3JRr1D8"
      }
    },
    {
      "cell_type": "code",
      "source": [
        "clientes.info()"
      ],
      "metadata": {
        "colab": {
          "base_uri": "https://localhost:8080/"
        },
        "id": "870M5uvRaoxp",
        "outputId": "fc772744-4d03-48cb-b891-1fa46d97ded6"
      },
      "execution_count": null,
      "outputs": [
        {
          "output_type": "stream",
          "name": "stdout",
          "text": [
            "<class 'pandas.core.frame.DataFrame'>\n",
            "RangeIndex: 99441 entries, 0 to 99440\n",
            "Data columns (total 5 columns):\n",
            " #   Column                    Non-Null Count  Dtype \n",
            "---  ------                    --------------  ----- \n",
            " 0   customer_id               99441 non-null  object\n",
            " 1   customer_unique_id        99441 non-null  object\n",
            " 2   customer_zip_code_prefix  99441 non-null  int64 \n",
            " 3   customer_city             99441 non-null  object\n",
            " 4   customer_state            99441 non-null  object\n",
            "dtypes: int64(1), object(4)\n",
            "memory usage: 3.8+ MB\n"
          ]
        }
      ]
    },
    {
      "cell_type": "code",
      "source": [
        "pedidos.info()"
      ],
      "metadata": {
        "colab": {
          "base_uri": "https://localhost:8080/"
        },
        "id": "CN6OTXsSa3OF",
        "outputId": "f45a308a-d418-4672-dd10-677329a24088"
      },
      "execution_count": null,
      "outputs": [
        {
          "output_type": "stream",
          "name": "stdout",
          "text": [
            "<class 'pandas.core.frame.DataFrame'>\n",
            "RangeIndex: 99441 entries, 0 to 99440\n",
            "Data columns (total 8 columns):\n",
            " #   Column                         Non-Null Count  Dtype \n",
            "---  ------                         --------------  ----- \n",
            " 0   order_id                       99441 non-null  object\n",
            " 1   customer_id                    99441 non-null  object\n",
            " 2   order_status                   99441 non-null  object\n",
            " 3   order_purchase_timestamp       99441 non-null  object\n",
            " 4   order_approved_at              99281 non-null  object\n",
            " 5   order_delivered_carrier_date   97658 non-null  object\n",
            " 6   order_delivered_customer_date  96476 non-null  object\n",
            " 7   order_estimated_delivery_date  99441 non-null  object\n",
            "dtypes: object(8)\n",
            "memory usage: 6.1+ MB\n"
          ]
        }
      ]
    },
    {
      "cell_type": "code",
      "source": [
        "itens_pedidos.info()"
      ],
      "metadata": {
        "colab": {
          "base_uri": "https://localhost:8080/"
        },
        "id": "SqDs8FQ_a4qE",
        "outputId": "fea2412c-114c-49f0-f4e9-d0972c7fe305"
      },
      "execution_count": null,
      "outputs": [
        {
          "output_type": "stream",
          "name": "stdout",
          "text": [
            "<class 'pandas.core.frame.DataFrame'>\n",
            "RangeIndex: 112650 entries, 0 to 112649\n",
            "Data columns (total 7 columns):\n",
            " #   Column               Non-Null Count   Dtype  \n",
            "---  ------               --------------   -----  \n",
            " 0   order_id             112650 non-null  object \n",
            " 1   order_item_id        112650 non-null  int64  \n",
            " 2   product_id           112650 non-null  object \n",
            " 3   seller_id            112650 non-null  object \n",
            " 4   shipping_limit_date  112650 non-null  object \n",
            " 5   price                112650 non-null  float64\n",
            " 6   freight_value        112650 non-null  float64\n",
            "dtypes: float64(2), int64(1), object(4)\n",
            "memory usage: 6.0+ MB\n"
          ]
        }
      ]
    },
    {
      "cell_type": "code",
      "source": [
        "pagamentos.info()"
      ],
      "metadata": {
        "colab": {
          "base_uri": "https://localhost:8080/"
        },
        "id": "r2ghCweHa6VE",
        "outputId": "9b740d54-38ce-43b4-dae8-77dd89fe3520"
      },
      "execution_count": null,
      "outputs": [
        {
          "output_type": "stream",
          "name": "stdout",
          "text": [
            "<class 'pandas.core.frame.DataFrame'>\n",
            "RangeIndex: 103886 entries, 0 to 103885\n",
            "Data columns (total 5 columns):\n",
            " #   Column                Non-Null Count   Dtype  \n",
            "---  ------                --------------   -----  \n",
            " 0   order_id              103886 non-null  object \n",
            " 1   payment_sequential    103886 non-null  int64  \n",
            " 2   payment_type          103886 non-null  object \n",
            " 3   payment_installments  103886 non-null  int64  \n",
            " 4   payment_value         103886 non-null  float64\n",
            "dtypes: float64(1), int64(2), object(2)\n",
            "memory usage: 4.0+ MB\n"
          ]
        }
      ]
    },
    {
      "cell_type": "code",
      "source": [
        "produtos.info()"
      ],
      "metadata": {
        "colab": {
          "base_uri": "https://localhost:8080/"
        },
        "id": "9gjCZITsa7aE",
        "outputId": "68e818f0-511b-4a53-ebf9-6ae5537dba55"
      },
      "execution_count": null,
      "outputs": [
        {
          "output_type": "stream",
          "name": "stdout",
          "text": [
            "<class 'pandas.core.frame.DataFrame'>\n",
            "RangeIndex: 32951 entries, 0 to 32950\n",
            "Data columns (total 9 columns):\n",
            " #   Column                      Non-Null Count  Dtype  \n",
            "---  ------                      --------------  -----  \n",
            " 0   product_id                  32951 non-null  object \n",
            " 1   product_category_name       32341 non-null  object \n",
            " 2   product_name_lenght         32341 non-null  float64\n",
            " 3   product_description_lenght  32341 non-null  float64\n",
            " 4   product_photos_qty          32341 non-null  float64\n",
            " 5   product_weight_g            32949 non-null  float64\n",
            " 6   product_length_cm           32949 non-null  float64\n",
            " 7   product_height_cm           32949 non-null  float64\n",
            " 8   product_width_cm            32949 non-null  float64\n",
            "dtypes: float64(7), object(2)\n",
            "memory usage: 2.3+ MB\n"
          ]
        }
      ]
    },
    {
      "cell_type": "code",
      "source": [
        "vendedores.info()"
      ],
      "metadata": {
        "colab": {
          "base_uri": "https://localhost:8080/"
        },
        "id": "gnbibua6a8sk",
        "outputId": "56fa7746-f148-4e13-90b2-293a2b76c1b8"
      },
      "execution_count": null,
      "outputs": [
        {
          "output_type": "stream",
          "name": "stdout",
          "text": [
            "<class 'pandas.core.frame.DataFrame'>\n",
            "RangeIndex: 3095 entries, 0 to 3094\n",
            "Data columns (total 4 columns):\n",
            " #   Column                  Non-Null Count  Dtype \n",
            "---  ------                  --------------  ----- \n",
            " 0   seller_id               3095 non-null   object\n",
            " 1   seller_zip_code_prefix  3095 non-null   int64 \n",
            " 2   seller_city             3095 non-null   object\n",
            " 3   seller_state            3095 non-null   object\n",
            "dtypes: int64(1), object(3)\n",
            "memory usage: 96.8+ KB\n"
          ]
        }
      ]
    },
    {
      "cell_type": "code",
      "source": [
        "geolocalizacao.info()"
      ],
      "metadata": {
        "colab": {
          "base_uri": "https://localhost:8080/"
        },
        "id": "hCXIgm_xh2t4",
        "outputId": "1abbefed-beea-4128-b89b-16617643108d"
      },
      "execution_count": null,
      "outputs": [
        {
          "output_type": "stream",
          "name": "stdout",
          "text": [
            "<class 'pandas.core.frame.DataFrame'>\n",
            "RangeIndex: 1000163 entries, 0 to 1000162\n",
            "Data columns (total 5 columns):\n",
            " #   Column                       Non-Null Count    Dtype  \n",
            "---  ------                       --------------    -----  \n",
            " 0   geolocation_zip_code_prefix  1000163 non-null  int64  \n",
            " 1   geolocation_lat              1000163 non-null  float64\n",
            " 2   geolocation_lng              1000163 non-null  float64\n",
            " 3   geolocation_city             1000163 non-null  object \n",
            " 4   geolocation_state            1000163 non-null  object \n",
            "dtypes: float64(2), int64(1), object(2)\n",
            "memory usage: 38.2+ MB\n"
          ]
        }
      ]
    },
    {
      "cell_type": "markdown",
      "source": [
        "#### Heatmap com resumo dos dados"
      ],
      "metadata": {
        "id": "JaG1e-mXmgCX"
      }
    },
    {
      "cell_type": "code",
      "source": [
        "# Criando varável para armazenar os datasets e atribuindo títulos\n",
        "datasets = [clientes, pedidos, itens_pedidos, pagamentos, produtos, vendedores, geolocalizacao]\n",
        "titulos = ['clientes', 'pedidos', 'itens_pedidos', 'pagamentos', 'produtos', 'vendedores', 'geolocalizacao']\n",
        "\n",
        "# Criando um dataframe para gerar o heatmap\n",
        "resumo_dados = pd.DataFrame({},)\n",
        "resumo_dados['datasets']= titulos\n",
        "resumo_dados['linhas']= [data.shape[0] for data in datasets]\n",
        "resumo_dados['colunas']= [data.shape[1] for data in datasets]\n",
        "resumo_dados['duplicatas']= [data.duplicated().sum() for data in datasets]\n",
        "resumo_dados['nulos']= [data.isnull().sum().sum() for data in datasets]\n",
        "\n",
        "#gerando o heatmap\n",
        "resumo_dados.style.background_gradient(cmap='RdPu').set_properties(**{'width': '120px', 'height': '20px'})"
      ],
      "metadata": {
        "colab": {
          "base_uri": "https://localhost:8080/",
          "height": 287
        },
        "id": "PY_ycd4lkizk",
        "outputId": "d968a503-9f0b-445a-ce8d-030c63406b7c"
      },
      "execution_count": null,
      "outputs": [
        {
          "output_type": "execute_result",
          "data": {
            "text/plain": [
              "<pandas.io.formats.style.Styler at 0x7f8e614b8f10>"
            ],
            "text/html": [
              "<style type=\"text/css\">\n",
              "#T_76884_row0_col0, #T_76884_row1_col0, #T_76884_row2_col0, #T_76884_row3_col0, #T_76884_row4_col0, #T_76884_row5_col0, #T_76884_row6_col0 {\n",
              "  width: 120px;\n",
              "  height: 20px;\n",
              "}\n",
              "#T_76884_row0_col1, #T_76884_row1_col1 {\n",
              "  background-color: #fde6e2;\n",
              "  color: #000000;\n",
              "  width: 120px;\n",
              "  height: 20px;\n",
              "}\n",
              "#T_76884_row0_col2, #T_76884_row3_col2, #T_76884_row6_col2 {\n",
              "  background-color: #fcd0cc;\n",
              "  color: #000000;\n",
              "  width: 120px;\n",
              "  height: 20px;\n",
              "}\n",
              "#T_76884_row0_col3, #T_76884_row0_col4, #T_76884_row1_col3, #T_76884_row2_col3, #T_76884_row2_col4, #T_76884_row3_col3, #T_76884_row3_col4, #T_76884_row4_col3, #T_76884_row5_col1, #T_76884_row5_col2, #T_76884_row5_col3, #T_76884_row5_col4, #T_76884_row6_col4 {\n",
              "  background-color: #fff7f3;\n",
              "  color: #000000;\n",
              "  width: 120px;\n",
              "  height: 20px;\n",
              "}\n",
              "#T_76884_row1_col2 {\n",
              "  background-color: #99017b;\n",
              "  color: #f1f1f1;\n",
              "  width: 120px;\n",
              "  height: 20px;\n",
              "}\n",
              "#T_76884_row1_col4, #T_76884_row4_col2, #T_76884_row6_col1, #T_76884_row6_col3 {\n",
              "  background-color: #49006a;\n",
              "  color: #f1f1f1;\n",
              "  width: 120px;\n",
              "  height: 20px;\n",
              "}\n",
              "#T_76884_row2_col1 {\n",
              "  background-color: #fde3e0;\n",
              "  color: #000000;\n",
              "  width: 120px;\n",
              "  height: 20px;\n",
              "}\n",
              "#T_76884_row2_col2 {\n",
              "  background-color: #e23e99;\n",
              "  color: #f1f1f1;\n",
              "  width: 120px;\n",
              "  height: 20px;\n",
              "}\n",
              "#T_76884_row3_col1 {\n",
              "  background-color: #fde5e2;\n",
              "  color: #000000;\n",
              "  width: 120px;\n",
              "  height: 20px;\n",
              "}\n",
              "#T_76884_row4_col1 {\n",
              "  background-color: #fff2ee;\n",
              "  color: #000000;\n",
              "  width: 120px;\n",
              "  height: 20px;\n",
              "}\n",
              "#T_76884_row4_col4 {\n",
              "  background-color: #f769a1;\n",
              "  color: #f1f1f1;\n",
              "  width: 120px;\n",
              "  height: 20px;\n",
              "}\n",
              "</style>\n",
              "<table id=\"T_76884_\" class=\"dataframe\">\n",
              "  <thead>\n",
              "    <tr>\n",
              "      <th class=\"blank level0\" >&nbsp;</th>\n",
              "      <th class=\"col_heading level0 col0\" >datasets</th>\n",
              "      <th class=\"col_heading level0 col1\" >linhas</th>\n",
              "      <th class=\"col_heading level0 col2\" >colunas</th>\n",
              "      <th class=\"col_heading level0 col3\" >duplicatas</th>\n",
              "      <th class=\"col_heading level0 col4\" >nulos</th>\n",
              "    </tr>\n",
              "  </thead>\n",
              "  <tbody>\n",
              "    <tr>\n",
              "      <th id=\"T_76884_level0_row0\" class=\"row_heading level0 row0\" >0</th>\n",
              "      <td id=\"T_76884_row0_col0\" class=\"data row0 col0\" >clientes</td>\n",
              "      <td id=\"T_76884_row0_col1\" class=\"data row0 col1\" >99441</td>\n",
              "      <td id=\"T_76884_row0_col2\" class=\"data row0 col2\" >5</td>\n",
              "      <td id=\"T_76884_row0_col3\" class=\"data row0 col3\" >0</td>\n",
              "      <td id=\"T_76884_row0_col4\" class=\"data row0 col4\" >0</td>\n",
              "    </tr>\n",
              "    <tr>\n",
              "      <th id=\"T_76884_level0_row1\" class=\"row_heading level0 row1\" >1</th>\n",
              "      <td id=\"T_76884_row1_col0\" class=\"data row1 col0\" >pedidos</td>\n",
              "      <td id=\"T_76884_row1_col1\" class=\"data row1 col1\" >99441</td>\n",
              "      <td id=\"T_76884_row1_col2\" class=\"data row1 col2\" >8</td>\n",
              "      <td id=\"T_76884_row1_col3\" class=\"data row1 col3\" >0</td>\n",
              "      <td id=\"T_76884_row1_col4\" class=\"data row1 col4\" >4908</td>\n",
              "    </tr>\n",
              "    <tr>\n",
              "      <th id=\"T_76884_level0_row2\" class=\"row_heading level0 row2\" >2</th>\n",
              "      <td id=\"T_76884_row2_col0\" class=\"data row2 col0\" >itens_pedidos</td>\n",
              "      <td id=\"T_76884_row2_col1\" class=\"data row2 col1\" >112650</td>\n",
              "      <td id=\"T_76884_row2_col2\" class=\"data row2 col2\" >7</td>\n",
              "      <td id=\"T_76884_row2_col3\" class=\"data row2 col3\" >0</td>\n",
              "      <td id=\"T_76884_row2_col4\" class=\"data row2 col4\" >0</td>\n",
              "    </tr>\n",
              "    <tr>\n",
              "      <th id=\"T_76884_level0_row3\" class=\"row_heading level0 row3\" >3</th>\n",
              "      <td id=\"T_76884_row3_col0\" class=\"data row3 col0\" >pagamentos</td>\n",
              "      <td id=\"T_76884_row3_col1\" class=\"data row3 col1\" >103886</td>\n",
              "      <td id=\"T_76884_row3_col2\" class=\"data row3 col2\" >5</td>\n",
              "      <td id=\"T_76884_row3_col3\" class=\"data row3 col3\" >0</td>\n",
              "      <td id=\"T_76884_row3_col4\" class=\"data row3 col4\" >0</td>\n",
              "    </tr>\n",
              "    <tr>\n",
              "      <th id=\"T_76884_level0_row4\" class=\"row_heading level0 row4\" >4</th>\n",
              "      <td id=\"T_76884_row4_col0\" class=\"data row4 col0\" >produtos</td>\n",
              "      <td id=\"T_76884_row4_col1\" class=\"data row4 col1\" >32951</td>\n",
              "      <td id=\"T_76884_row4_col2\" class=\"data row4 col2\" >9</td>\n",
              "      <td id=\"T_76884_row4_col3\" class=\"data row4 col3\" >0</td>\n",
              "      <td id=\"T_76884_row4_col4\" class=\"data row4 col4\" >2448</td>\n",
              "    </tr>\n",
              "    <tr>\n",
              "      <th id=\"T_76884_level0_row5\" class=\"row_heading level0 row5\" >5</th>\n",
              "      <td id=\"T_76884_row5_col0\" class=\"data row5 col0\" >vendedores</td>\n",
              "      <td id=\"T_76884_row5_col1\" class=\"data row5 col1\" >3095</td>\n",
              "      <td id=\"T_76884_row5_col2\" class=\"data row5 col2\" >4</td>\n",
              "      <td id=\"T_76884_row5_col3\" class=\"data row5 col3\" >0</td>\n",
              "      <td id=\"T_76884_row5_col4\" class=\"data row5 col4\" >0</td>\n",
              "    </tr>\n",
              "    <tr>\n",
              "      <th id=\"T_76884_level0_row6\" class=\"row_heading level0 row6\" >6</th>\n",
              "      <td id=\"T_76884_row6_col0\" class=\"data row6 col0\" >geolocalizacao</td>\n",
              "      <td id=\"T_76884_row6_col1\" class=\"data row6 col1\" >1000163</td>\n",
              "      <td id=\"T_76884_row6_col2\" class=\"data row6 col2\" >5</td>\n",
              "      <td id=\"T_76884_row6_col3\" class=\"data row6 col3\" >261831</td>\n",
              "      <td id=\"T_76884_row6_col4\" class=\"data row6 col4\" >0</td>\n",
              "    </tr>\n",
              "  </tbody>\n",
              "</table>\n"
            ]
          },
          "metadata": {},
          "execution_count": 816
        }
      ]
    },
    {
      "cell_type": "markdown",
      "source": [
        "## Limpeza, transformação e preparação "
      ],
      "metadata": {
        "id": "Xkl5EyBRb-U_"
      }
    },
    {
      "cell_type": "markdown",
      "source": [
        "> Etapas da limpeza e transformação de dados\n",
        "\n",
        "Com as análises anteriores pudemos identificar algumas limpezas e ajustes que podem ser feitos:\n",
        "\n",
        "1. Identificar e tratar dados faltantes em cada DataFrame\n",
        "2. Identificar e remover duplicatas\n",
        "3. Unir todos os DFs em um único DataFrame para agilizar as análises\n",
        "4. Transformar tipos de dados para os mais adequados\n",
        "5. Traduzir colunas e campos para facilitar as leituras das análise\n",
        "6. Criar novas colunas necessárias para auxiliar nas análises"
      ],
      "metadata": {
        "id": "8OCrOq95rusp"
      }
    },
    {
      "cell_type": "markdown",
      "source": [
        "#### 1. Identificar e tratar dados faltantes"
      ],
      "metadata": {
        "id": "3WUTJK1dcBFs"
      }
    },
    {
      "cell_type": "markdown",
      "source": [
        "Com a análise anterior, vimos que os DataFrames \"pedidos\" e \"produtos\" possuem dados nulos. Abaixo veremos a quantidade destes dados nulos e se eles são passiveis de remoção."
      ],
      "metadata": {
        "id": "b2_kX7nZ4Y3o"
      }
    },
    {
      "cell_type": "markdown",
      "source": [
        "**1.1 Pedidos**"
      ],
      "metadata": {
        "id": "Dk-su5O7fUt-"
      }
    },
    {
      "cell_type": "code",
      "source": [
        "pedidos.isnull().sum()"
      ],
      "metadata": {
        "colab": {
          "base_uri": "https://localhost:8080/"
        },
        "id": "Mna-Kk3sa9jc",
        "outputId": "6dd75bee-c12b-4122-8f30-d2d488abd17d"
      },
      "execution_count": null,
      "outputs": [
        {
          "output_type": "execute_result",
          "data": {
            "text/plain": [
              "order_id                            0\n",
              "customer_id                         0\n",
              "order_status                        0\n",
              "order_purchase_timestamp            0\n",
              "order_approved_at                 160\n",
              "order_delivered_carrier_date     1783\n",
              "order_delivered_customer_date    2965\n",
              "order_estimated_delivery_date       0\n",
              "dtype: int64"
            ]
          },
          "metadata": {},
          "execution_count": 817
        }
      ]
    },
    {
      "cell_type": "markdown",
      "source": [
        "Neste DataFrame encontramos **4.908 campos nulos** em **3 colunas**.\n",
        "\n",
        "Tendo em mente que nossa análise será feita com base em **pedidos entregues**,\n",
        "vamos relacionar os dados nulos com a quantidade destes que tem seu\n",
        "**'order_status' como 'delivered'**. Assim será possível decidir se podemos \n",
        "ou não remover os campos nulos do DF."
      ],
      "metadata": {
        "id": "s8KA69cUcaWb"
      }
    },
    {
      "cell_type": "code",
      "source": [
        "pedidos_aprovados_nulos = pedidos.loc[pedidos['order_approved_at'].isnull()]\n",
        "pedidos_aprovados_nulos.order_status.value_counts()"
      ],
      "metadata": {
        "colab": {
          "base_uri": "https://localhost:8080/"
        },
        "id": "WecsXnqGcVv0",
        "outputId": "da1661f4-76b4-416e-b361-4ee305ea018a"
      },
      "execution_count": null,
      "outputs": [
        {
          "output_type": "execute_result",
          "data": {
            "text/plain": [
              "canceled     141\n",
              "delivered     14\n",
              "created        5\n",
              "Name: order_status, dtype: int64"
            ]
          },
          "metadata": {},
          "execution_count": 818
        }
      ]
    },
    {
      "cell_type": "code",
      "source": [
        "pedidos_transportadora_nulos = pedidos.loc[pedidos['order_delivered_carrier_date'].isnull()]\n",
        "pedidos_transportadora_nulos.order_status.value_counts()"
      ],
      "metadata": {
        "colab": {
          "base_uri": "https://localhost:8080/"
        },
        "id": "4V9zoyXCcxql",
        "outputId": "c24c5b5c-865d-4eca-d34f-6690e4928693"
      },
      "execution_count": null,
      "outputs": [
        {
          "output_type": "execute_result",
          "data": {
            "text/plain": [
              "unavailable    609\n",
              "canceled       550\n",
              "invoiced       314\n",
              "processing     301\n",
              "created          5\n",
              "approved         2\n",
              "delivered        2\n",
              "Name: order_status, dtype: int64"
            ]
          },
          "metadata": {},
          "execution_count": 819
        }
      ]
    },
    {
      "cell_type": "code",
      "source": [
        "pedidos_entregues_nulos = pedidos.loc[pedidos['order_delivered_customer_date'].isnull()]\n",
        "pedidos_entregues_nulos.order_status.value_counts()"
      ],
      "metadata": {
        "colab": {
          "base_uri": "https://localhost:8080/"
        },
        "id": "xLL5fYLfdA6E",
        "outputId": "136884ef-fba9-4049-d30e-e5a9fe9741c6"
      },
      "execution_count": null,
      "outputs": [
        {
          "output_type": "execute_result",
          "data": {
            "text/plain": [
              "shipped        1107\n",
              "canceled        619\n",
              "unavailable     609\n",
              "invoiced        314\n",
              "processing      301\n",
              "delivered         8\n",
              "created           5\n",
              "approved          2\n",
              "Name: order_status, dtype: int64"
            ]
          },
          "metadata": {},
          "execution_count": 820
        }
      ]
    },
    {
      "cell_type": "markdown",
      "source": [
        "Das **4.908 linhas** com valores nulos neste DF, apenas **24 linhas** são relacionadas ao status de entrega **'delivered'**\n",
        "\n",
        "Logo, vamos considerar que todas essas linhas com valores nulos podem ser removidas sem gerar impacto relevante em nossas análises. "
      ],
      "metadata": {
        "id": "276XQb47dKDP"
      }
    },
    {
      "cell_type": "code",
      "source": [
        "pedidos = pedidos.dropna()\n",
        "pedidos.isnull().sum()"
      ],
      "metadata": {
        "colab": {
          "base_uri": "https://localhost:8080/"
        },
        "id": "sTyt4HYVfh7N",
        "outputId": "c3961c90-fba1-4a80-9e0a-1ecedffeda0a"
      },
      "execution_count": null,
      "outputs": [
        {
          "output_type": "execute_result",
          "data": {
            "text/plain": [
              "order_id                         0\n",
              "customer_id                      0\n",
              "order_status                     0\n",
              "order_purchase_timestamp         0\n",
              "order_approved_at                0\n",
              "order_delivered_carrier_date     0\n",
              "order_delivered_customer_date    0\n",
              "order_estimated_delivery_date    0\n",
              "dtype: int64"
            ]
          },
          "metadata": {},
          "execution_count": 821
        }
      ]
    },
    {
      "cell_type": "markdown",
      "source": [
        "1.2 Produtos"
      ],
      "metadata": {
        "id": "ikihQ20GffMk"
      }
    },
    {
      "cell_type": "code",
      "source": [
        "produtos.isnull().sum()"
      ],
      "metadata": {
        "colab": {
          "base_uri": "https://localhost:8080/"
        },
        "id": "5Ak9YXf5dDSU",
        "outputId": "862c7d47-3b41-4a70-a271-5e6e6a360631"
      },
      "execution_count": null,
      "outputs": [
        {
          "output_type": "execute_result",
          "data": {
            "text/plain": [
              "product_id                      0\n",
              "product_category_name         610\n",
              "product_name_lenght           610\n",
              "product_description_lenght    610\n",
              "product_photos_qty            610\n",
              "product_weight_g                2\n",
              "product_length_cm               2\n",
              "product_height_cm               2\n",
              "product_width_cm                2\n",
              "dtype: int64"
            ]
          },
          "metadata": {},
          "execution_count": 822
        }
      ]
    },
    {
      "cell_type": "markdown",
      "source": [
        "O DF 'produtos' possui mais de 30.000 linhas. Encontramos apenas 610 destas com campos nulos em 4 colunas. Decidimos que também vamos remover estas linhas pois a baixa quantidade não afetará a análise."
      ],
      "metadata": {
        "id": "vCaOfDl3f1bE"
      }
    },
    {
      "cell_type": "code",
      "source": [
        "produtos = produtos.dropna()\n",
        "produtos.isnull().sum()"
      ],
      "metadata": {
        "colab": {
          "base_uri": "https://localhost:8080/"
        },
        "id": "Yjj6vPxofx0_",
        "outputId": "6c50b61b-c52e-4597-f054-578adacb2f31"
      },
      "execution_count": null,
      "outputs": [
        {
          "output_type": "execute_result",
          "data": {
            "text/plain": [
              "product_id                    0\n",
              "product_category_name         0\n",
              "product_name_lenght           0\n",
              "product_description_lenght    0\n",
              "product_photos_qty            0\n",
              "product_weight_g              0\n",
              "product_length_cm             0\n",
              "product_height_cm             0\n",
              "product_width_cm              0\n",
              "dtype: int64"
            ]
          },
          "metadata": {},
          "execution_count": 823
        }
      ]
    },
    {
      "cell_type": "markdown",
      "source": [
        "#### 2. Identificar e remover duplicatas"
      ],
      "metadata": {
        "id": "3kwrdnpiiucY"
      }
    },
    {
      "cell_type": "markdown",
      "source": [
        "Vimos no heatmap que apenas o dataframe **'geolocalizacao'** possui dados duplicados. \n",
        "\n",
        "Vamos simplismente removê-los."
      ],
      "metadata": {
        "id": "yc30zlfmrJCh"
      }
    },
    {
      "cell_type": "code",
      "source": [
        "geolocalizacao.duplicated().sum()"
      ],
      "metadata": {
        "colab": {
          "base_uri": "https://localhost:8080/"
        },
        "id": "Akv1ZTbuf41U",
        "outputId": "d9e2411b-ab5b-422c-966e-07aa0a34c95a"
      },
      "execution_count": null,
      "outputs": [
        {
          "output_type": "execute_result",
          "data": {
            "text/plain": [
              "261831"
            ]
          },
          "metadata": {},
          "execution_count": 824
        }
      ]
    },
    {
      "cell_type": "code",
      "source": [
        "geolocalizacao.drop_duplicates(inplace=True)\n",
        "geolocalizacao.duplicated().sum()"
      ],
      "metadata": {
        "colab": {
          "base_uri": "https://localhost:8080/"
        },
        "id": "kvD0w8jLj351",
        "outputId": "14761682-a427-4b6d-857c-3af81582381b"
      },
      "execution_count": null,
      "outputs": [
        {
          "output_type": "execute_result",
          "data": {
            "text/plain": [
              "0"
            ]
          },
          "metadata": {},
          "execution_count": 825
        }
      ]
    },
    {
      "cell_type": "markdown",
      "source": [
        "#### 3. Unir os dados em um único dataframe"
      ],
      "metadata": {
        "id": "cWpVFp9Qs39Z"
      }
    },
    {
      "cell_type": "markdown",
      "source": [
        "Não vamos incluir a 'geolocalizacao' neste merge. Existem colunas de zipcode tanto de clientes, quanto de vendedores e usar apenas uma delas para a junção pode acarretar na não inclusão de registros importantes no momento do merge.\n",
        "\n",
        "Quando for necessário, vamos fazer a junção de 'geolocalizacao' para análises específicas."
      ],
      "metadata": {
        "id": "eWEL6314wLbw"
      }
    },
    {
      "cell_type": "code",
      "source": [
        "dados_olist= pd.merge(clientes, pedidos, on=\"customer_id\")\n",
        "dados_olist= dados_olist.merge(itens_pedidos, on=\"order_id\")\n",
        "dados_olist= dados_olist.merge(pagamentos, on=\"order_id\")\n",
        "dados_olist= dados_olist.merge(produtos, on=\"product_id\")\n",
        "dados_olist= dados_olist.merge(vendedores, on='seller_id')\n",
        "dados_olist.shape"
      ],
      "metadata": {
        "colab": {
          "base_uri": "https://localhost:8080/"
        },
        "id": "L_hDE5tzq7vr",
        "outputId": "84e40d8c-1dd2-4443-ba5f-7dd2a4a4e287"
      },
      "execution_count": null,
      "outputs": [
        {
          "output_type": "execute_result",
          "data": {
            "text/plain": [
              "(113390, 33)"
            ]
          },
          "metadata": {},
          "execution_count": 826
        }
      ]
    },
    {
      "cell_type": "code",
      "source": [
        "dados_olist"
      ],
      "metadata": {
        "colab": {
          "base_uri": "https://localhost:8080/",
          "height": 539
        },
        "id": "tkQWW3ZdtPyC",
        "outputId": "2a738c77-e33a-481a-c7d1-9841dc1443f6"
      },
      "execution_count": null,
      "outputs": [
        {
          "output_type": "execute_result",
          "data": {
            "text/plain": [
              "                             customer_id                customer_unique_id  \\\n",
              "0       06b8999e2fba1a1fbc88172c00ba8bc7  861eff4711a542e4b93843c6dd7febb0   \n",
              "1       8912fc0c3bbf1e2fbf35819e21706718  9eae34bbd3a474ec5d07949ca7de67c0   \n",
              "2       8912fc0c3bbf1e2fbf35819e21706718  9eae34bbd3a474ec5d07949ca7de67c0   \n",
              "3       f0ac8e5a239118859b1734e1087cbb1f  3c799d181c34d51f6d44bbbc563024db   \n",
              "4       6bc8d08963a135220ed6c6d098831f84  23397e992b09769faf5e66f9e171a241   \n",
              "...                                  ...                               ...   \n",
              "113385  59168d27c5da6a50e3d1f03d482e80b2  393c2ace23a135d0bcc7e70167448e16   \n",
              "113386  eda10d7eb51a675d000956fa1aabc7dd  5c22dbb9d8b5385953f2f1e6d9d115a7   \n",
              "113387  b90b857a277b080d8078332b3636ab58  7f5f43a9394964ac51bc5d1e0204ead4   \n",
              "113388  1ed0c832c2dd99570a59260e71768bdf  82d46759af0369aad49084bacf85a6c3   \n",
              "113389  1ed0c832c2dd99570a59260e71768bdf  82d46759af0369aad49084bacf85a6c3   \n",
              "\n",
              "        customer_zip_code_prefix    customer_city customer_state  \\\n",
              "0                          14409           franca             SP   \n",
              "1                          68030         santarem             PA   \n",
              "2                          68030         santarem             PA   \n",
              "3                          92480  nova santa rita             RS   \n",
              "4                          25931             mage             RJ   \n",
              "...                          ...              ...            ...   \n",
              "113385                     47800        barreiras             BA   \n",
              "113386                     39920         jordania             MG   \n",
              "113387                     76400           uruacu             GO   \n",
              "113388                     37610      bom repouso             MG   \n",
              "113389                     37610      bom repouso             MG   \n",
              "\n",
              "                                order_id order_status  \\\n",
              "0       00e7ee1b050b8499577073aeb2a297a1    delivered   \n",
              "1       c1d2b34febe9cd269e378117d6681172    delivered   \n",
              "2       c1d2b34febe9cd269e378117d6681172    delivered   \n",
              "3       b1a5d5365d330d10485e0203d54ab9e8    delivered   \n",
              "4       2e604b3614664aa66867856dba7e61b7    delivered   \n",
              "...                                  ...          ...   \n",
              "113385  c382d84d35f4d874b1f1c372f4bde27c    delivered   \n",
              "113386  b494f624c631105b24fe497277085909    delivered   \n",
              "113387  d76fe905f4588ad69ab3b36527bb267d    delivered   \n",
              "113388  51c6d2f460589fa7b65f2da51e860206    delivered   \n",
              "113389  51c6d2f460589fa7b65f2da51e860206    delivered   \n",
              "\n",
              "       order_purchase_timestamp    order_approved_at  \\\n",
              "0           2017-05-16 15:05:35  2017-05-16 15:22:12   \n",
              "1           2017-11-09 00:50:13  2017-11-10 00:47:48   \n",
              "2           2017-11-09 00:50:13  2017-11-10 00:47:48   \n",
              "3           2017-05-07 20:11:26  2017-05-08 22:22:56   \n",
              "4           2018-02-03 19:45:40  2018-02-04 22:29:19   \n",
              "...                         ...                  ...   \n",
              "113385      2018-07-20 09:42:40  2018-07-20 15:05:22   \n",
              "113386      2018-08-01 18:58:49  2018-08-02 18:50:15   \n",
              "113387      2018-08-18 20:59:58  2018-08-18 21:10:13   \n",
              "113388      2017-11-14 12:04:09  2017-11-14 12:15:25   \n",
              "113389      2017-11-14 12:04:09  2017-11-14 12:15:25   \n",
              "\n",
              "       order_delivered_carrier_date  ... product_name_lenght  \\\n",
              "0               2017-05-23 10:47:57  ...                41.0   \n",
              "1               2017-11-22 01:43:37  ...                41.0   \n",
              "2               2017-11-22 01:43:37  ...                41.0   \n",
              "3               2017-05-19 20:16:31  ...                41.0   \n",
              "4               2018-02-19 18:21:47  ...                41.0   \n",
              "...                             ...  ...                 ...   \n",
              "113385          2018-07-23 11:53:00  ...                49.0   \n",
              "113386          2018-08-03 15:39:00  ...                51.0   \n",
              "113387          2018-08-20 16:49:00  ...                55.0   \n",
              "113388          2017-11-27 20:44:47  ...                33.0   \n",
              "113389          2017-11-27 20:44:47  ...                33.0   \n",
              "\n",
              "       product_description_lenght  product_photos_qty product_weight_g  \\\n",
              "0                          1141.0                 1.0           8683.0   \n",
              "1                          1141.0                 1.0           8683.0   \n",
              "2                          1141.0                 1.0           8683.0   \n",
              "3                          1141.0                 1.0           8683.0   \n",
              "4                          1141.0                 1.0           8683.0   \n",
              "...                           ...                 ...              ...   \n",
              "113385                     1879.0                 1.0           2250.0   \n",
              "113386                      433.0                 1.0            200.0   \n",
              "113387                      835.0                 8.0           3211.0   \n",
              "113388                       63.0                 1.0           6185.0   \n",
              "113389                       63.0                 1.0           6185.0   \n",
              "\n",
              "       product_length_cm product_height_cm  product_width_cm  \\\n",
              "0                   54.0              64.0              31.0   \n",
              "1                   54.0              64.0              31.0   \n",
              "2                   54.0              64.0              31.0   \n",
              "3                   54.0              64.0              31.0   \n",
              "4                   54.0              64.0              31.0   \n",
              "...                  ...               ...               ...   \n",
              "113385              16.0              28.0              16.0   \n",
              "113386              40.0               7.0              32.0   \n",
              "113387              36.0              53.0              22.0   \n",
              "113388              63.0              11.0              20.0   \n",
              "113389              63.0              11.0              20.0   \n",
              "\n",
              "        seller_zip_code_prefix           seller_city seller_state  \n",
              "0                         8577       itaquaquecetuba           SP  \n",
              "1                         8577       itaquaquecetuba           SP  \n",
              "2                         8577       itaquaquecetuba           SP  \n",
              "3                         8577       itaquaquecetuba           SP  \n",
              "4                         8577       itaquaquecetuba           SP  \n",
              "...                        ...                   ...          ...  \n",
              "113385                   40285              salvador           BA  \n",
              "113386                   87015               maringa           PR  \n",
              "113387                   83015  sao jose dos pinhais           PR  \n",
              "113388                   12914     braganca paulista           SP  \n",
              "113389                   12914     braganca paulista           SP  \n",
              "\n",
              "[113390 rows x 33 columns]"
            ],
            "text/html": [
              "\n",
              "  <div id=\"df-6edea7db-7e6a-4e91-99bf-00f5f7e3e8fb\">\n",
              "    <div class=\"colab-df-container\">\n",
              "      <div>\n",
              "<style scoped>\n",
              "    .dataframe tbody tr th:only-of-type {\n",
              "        vertical-align: middle;\n",
              "    }\n",
              "\n",
              "    .dataframe tbody tr th {\n",
              "        vertical-align: top;\n",
              "    }\n",
              "\n",
              "    .dataframe thead th {\n",
              "        text-align: right;\n",
              "    }\n",
              "</style>\n",
              "<table border=\"1\" class=\"dataframe\">\n",
              "  <thead>\n",
              "    <tr style=\"text-align: right;\">\n",
              "      <th></th>\n",
              "      <th>customer_id</th>\n",
              "      <th>customer_unique_id</th>\n",
              "      <th>customer_zip_code_prefix</th>\n",
              "      <th>customer_city</th>\n",
              "      <th>customer_state</th>\n",
              "      <th>order_id</th>\n",
              "      <th>order_status</th>\n",
              "      <th>order_purchase_timestamp</th>\n",
              "      <th>order_approved_at</th>\n",
              "      <th>order_delivered_carrier_date</th>\n",
              "      <th>...</th>\n",
              "      <th>product_name_lenght</th>\n",
              "      <th>product_description_lenght</th>\n",
              "      <th>product_photos_qty</th>\n",
              "      <th>product_weight_g</th>\n",
              "      <th>product_length_cm</th>\n",
              "      <th>product_height_cm</th>\n",
              "      <th>product_width_cm</th>\n",
              "      <th>seller_zip_code_prefix</th>\n",
              "      <th>seller_city</th>\n",
              "      <th>seller_state</th>\n",
              "    </tr>\n",
              "  </thead>\n",
              "  <tbody>\n",
              "    <tr>\n",
              "      <th>0</th>\n",
              "      <td>06b8999e2fba1a1fbc88172c00ba8bc7</td>\n",
              "      <td>861eff4711a542e4b93843c6dd7febb0</td>\n",
              "      <td>14409</td>\n",
              "      <td>franca</td>\n",
              "      <td>SP</td>\n",
              "      <td>00e7ee1b050b8499577073aeb2a297a1</td>\n",
              "      <td>delivered</td>\n",
              "      <td>2017-05-16 15:05:35</td>\n",
              "      <td>2017-05-16 15:22:12</td>\n",
              "      <td>2017-05-23 10:47:57</td>\n",
              "      <td>...</td>\n",
              "      <td>41.0</td>\n",
              "      <td>1141.0</td>\n",
              "      <td>1.0</td>\n",
              "      <td>8683.0</td>\n",
              "      <td>54.0</td>\n",
              "      <td>64.0</td>\n",
              "      <td>31.0</td>\n",
              "      <td>8577</td>\n",
              "      <td>itaquaquecetuba</td>\n",
              "      <td>SP</td>\n",
              "    </tr>\n",
              "    <tr>\n",
              "      <th>1</th>\n",
              "      <td>8912fc0c3bbf1e2fbf35819e21706718</td>\n",
              "      <td>9eae34bbd3a474ec5d07949ca7de67c0</td>\n",
              "      <td>68030</td>\n",
              "      <td>santarem</td>\n",
              "      <td>PA</td>\n",
              "      <td>c1d2b34febe9cd269e378117d6681172</td>\n",
              "      <td>delivered</td>\n",
              "      <td>2017-11-09 00:50:13</td>\n",
              "      <td>2017-11-10 00:47:48</td>\n",
              "      <td>2017-11-22 01:43:37</td>\n",
              "      <td>...</td>\n",
              "      <td>41.0</td>\n",
              "      <td>1141.0</td>\n",
              "      <td>1.0</td>\n",
              "      <td>8683.0</td>\n",
              "      <td>54.0</td>\n",
              "      <td>64.0</td>\n",
              "      <td>31.0</td>\n",
              "      <td>8577</td>\n",
              "      <td>itaquaquecetuba</td>\n",
              "      <td>SP</td>\n",
              "    </tr>\n",
              "    <tr>\n",
              "      <th>2</th>\n",
              "      <td>8912fc0c3bbf1e2fbf35819e21706718</td>\n",
              "      <td>9eae34bbd3a474ec5d07949ca7de67c0</td>\n",
              "      <td>68030</td>\n",
              "      <td>santarem</td>\n",
              "      <td>PA</td>\n",
              "      <td>c1d2b34febe9cd269e378117d6681172</td>\n",
              "      <td>delivered</td>\n",
              "      <td>2017-11-09 00:50:13</td>\n",
              "      <td>2017-11-10 00:47:48</td>\n",
              "      <td>2017-11-22 01:43:37</td>\n",
              "      <td>...</td>\n",
              "      <td>41.0</td>\n",
              "      <td>1141.0</td>\n",
              "      <td>1.0</td>\n",
              "      <td>8683.0</td>\n",
              "      <td>54.0</td>\n",
              "      <td>64.0</td>\n",
              "      <td>31.0</td>\n",
              "      <td>8577</td>\n",
              "      <td>itaquaquecetuba</td>\n",
              "      <td>SP</td>\n",
              "    </tr>\n",
              "    <tr>\n",
              "      <th>3</th>\n",
              "      <td>f0ac8e5a239118859b1734e1087cbb1f</td>\n",
              "      <td>3c799d181c34d51f6d44bbbc563024db</td>\n",
              "      <td>92480</td>\n",
              "      <td>nova santa rita</td>\n",
              "      <td>RS</td>\n",
              "      <td>b1a5d5365d330d10485e0203d54ab9e8</td>\n",
              "      <td>delivered</td>\n",
              "      <td>2017-05-07 20:11:26</td>\n",
              "      <td>2017-05-08 22:22:56</td>\n",
              "      <td>2017-05-19 20:16:31</td>\n",
              "      <td>...</td>\n",
              "      <td>41.0</td>\n",
              "      <td>1141.0</td>\n",
              "      <td>1.0</td>\n",
              "      <td>8683.0</td>\n",
              "      <td>54.0</td>\n",
              "      <td>64.0</td>\n",
              "      <td>31.0</td>\n",
              "      <td>8577</td>\n",
              "      <td>itaquaquecetuba</td>\n",
              "      <td>SP</td>\n",
              "    </tr>\n",
              "    <tr>\n",
              "      <th>4</th>\n",
              "      <td>6bc8d08963a135220ed6c6d098831f84</td>\n",
              "      <td>23397e992b09769faf5e66f9e171a241</td>\n",
              "      <td>25931</td>\n",
              "      <td>mage</td>\n",
              "      <td>RJ</td>\n",
              "      <td>2e604b3614664aa66867856dba7e61b7</td>\n",
              "      <td>delivered</td>\n",
              "      <td>2018-02-03 19:45:40</td>\n",
              "      <td>2018-02-04 22:29:19</td>\n",
              "      <td>2018-02-19 18:21:47</td>\n",
              "      <td>...</td>\n",
              "      <td>41.0</td>\n",
              "      <td>1141.0</td>\n",
              "      <td>1.0</td>\n",
              "      <td>8683.0</td>\n",
              "      <td>54.0</td>\n",
              "      <td>64.0</td>\n",
              "      <td>31.0</td>\n",
              "      <td>8577</td>\n",
              "      <td>itaquaquecetuba</td>\n",
              "      <td>SP</td>\n",
              "    </tr>\n",
              "    <tr>\n",
              "      <th>...</th>\n",
              "      <td>...</td>\n",
              "      <td>...</td>\n",
              "      <td>...</td>\n",
              "      <td>...</td>\n",
              "      <td>...</td>\n",
              "      <td>...</td>\n",
              "      <td>...</td>\n",
              "      <td>...</td>\n",
              "      <td>...</td>\n",
              "      <td>...</td>\n",
              "      <td>...</td>\n",
              "      <td>...</td>\n",
              "      <td>...</td>\n",
              "      <td>...</td>\n",
              "      <td>...</td>\n",
              "      <td>...</td>\n",
              "      <td>...</td>\n",
              "      <td>...</td>\n",
              "      <td>...</td>\n",
              "      <td>...</td>\n",
              "      <td>...</td>\n",
              "    </tr>\n",
              "    <tr>\n",
              "      <th>113385</th>\n",
              "      <td>59168d27c5da6a50e3d1f03d482e80b2</td>\n",
              "      <td>393c2ace23a135d0bcc7e70167448e16</td>\n",
              "      <td>47800</td>\n",
              "      <td>barreiras</td>\n",
              "      <td>BA</td>\n",
              "      <td>c382d84d35f4d874b1f1c372f4bde27c</td>\n",
              "      <td>delivered</td>\n",
              "      <td>2018-07-20 09:42:40</td>\n",
              "      <td>2018-07-20 15:05:22</td>\n",
              "      <td>2018-07-23 11:53:00</td>\n",
              "      <td>...</td>\n",
              "      <td>49.0</td>\n",
              "      <td>1879.0</td>\n",
              "      <td>1.0</td>\n",
              "      <td>2250.0</td>\n",
              "      <td>16.0</td>\n",
              "      <td>28.0</td>\n",
              "      <td>16.0</td>\n",
              "      <td>40285</td>\n",
              "      <td>salvador</td>\n",
              "      <td>BA</td>\n",
              "    </tr>\n",
              "    <tr>\n",
              "      <th>113386</th>\n",
              "      <td>eda10d7eb51a675d000956fa1aabc7dd</td>\n",
              "      <td>5c22dbb9d8b5385953f2f1e6d9d115a7</td>\n",
              "      <td>39920</td>\n",
              "      <td>jordania</td>\n",
              "      <td>MG</td>\n",
              "      <td>b494f624c631105b24fe497277085909</td>\n",
              "      <td>delivered</td>\n",
              "      <td>2018-08-01 18:58:49</td>\n",
              "      <td>2018-08-02 18:50:15</td>\n",
              "      <td>2018-08-03 15:39:00</td>\n",
              "      <td>...</td>\n",
              "      <td>51.0</td>\n",
              "      <td>433.0</td>\n",
              "      <td>1.0</td>\n",
              "      <td>200.0</td>\n",
              "      <td>40.0</td>\n",
              "      <td>7.0</td>\n",
              "      <td>32.0</td>\n",
              "      <td>87015</td>\n",
              "      <td>maringa</td>\n",
              "      <td>PR</td>\n",
              "    </tr>\n",
              "    <tr>\n",
              "      <th>113387</th>\n",
              "      <td>b90b857a277b080d8078332b3636ab58</td>\n",
              "      <td>7f5f43a9394964ac51bc5d1e0204ead4</td>\n",
              "      <td>76400</td>\n",
              "      <td>uruacu</td>\n",
              "      <td>GO</td>\n",
              "      <td>d76fe905f4588ad69ab3b36527bb267d</td>\n",
              "      <td>delivered</td>\n",
              "      <td>2018-08-18 20:59:58</td>\n",
              "      <td>2018-08-18 21:10:13</td>\n",
              "      <td>2018-08-20 16:49:00</td>\n",
              "      <td>...</td>\n",
              "      <td>55.0</td>\n",
              "      <td>835.0</td>\n",
              "      <td>8.0</td>\n",
              "      <td>3211.0</td>\n",
              "      <td>36.0</td>\n",
              "      <td>53.0</td>\n",
              "      <td>22.0</td>\n",
              "      <td>83015</td>\n",
              "      <td>sao jose dos pinhais</td>\n",
              "      <td>PR</td>\n",
              "    </tr>\n",
              "    <tr>\n",
              "      <th>113388</th>\n",
              "      <td>1ed0c832c2dd99570a59260e71768bdf</td>\n",
              "      <td>82d46759af0369aad49084bacf85a6c3</td>\n",
              "      <td>37610</td>\n",
              "      <td>bom repouso</td>\n",
              "      <td>MG</td>\n",
              "      <td>51c6d2f460589fa7b65f2da51e860206</td>\n",
              "      <td>delivered</td>\n",
              "      <td>2017-11-14 12:04:09</td>\n",
              "      <td>2017-11-14 12:15:25</td>\n",
              "      <td>2017-11-27 20:44:47</td>\n",
              "      <td>...</td>\n",
              "      <td>33.0</td>\n",
              "      <td>63.0</td>\n",
              "      <td>1.0</td>\n",
              "      <td>6185.0</td>\n",
              "      <td>63.0</td>\n",
              "      <td>11.0</td>\n",
              "      <td>20.0</td>\n",
              "      <td>12914</td>\n",
              "      <td>braganca paulista</td>\n",
              "      <td>SP</td>\n",
              "    </tr>\n",
              "    <tr>\n",
              "      <th>113389</th>\n",
              "      <td>1ed0c832c2dd99570a59260e71768bdf</td>\n",
              "      <td>82d46759af0369aad49084bacf85a6c3</td>\n",
              "      <td>37610</td>\n",
              "      <td>bom repouso</td>\n",
              "      <td>MG</td>\n",
              "      <td>51c6d2f460589fa7b65f2da51e860206</td>\n",
              "      <td>delivered</td>\n",
              "      <td>2017-11-14 12:04:09</td>\n",
              "      <td>2017-11-14 12:15:25</td>\n",
              "      <td>2017-11-27 20:44:47</td>\n",
              "      <td>...</td>\n",
              "      <td>33.0</td>\n",
              "      <td>63.0</td>\n",
              "      <td>1.0</td>\n",
              "      <td>6185.0</td>\n",
              "      <td>63.0</td>\n",
              "      <td>11.0</td>\n",
              "      <td>20.0</td>\n",
              "      <td>12914</td>\n",
              "      <td>braganca paulista</td>\n",
              "      <td>SP</td>\n",
              "    </tr>\n",
              "  </tbody>\n",
              "</table>\n",
              "<p>113390 rows × 33 columns</p>\n",
              "</div>\n",
              "      <button class=\"colab-df-convert\" onclick=\"convertToInteractive('df-6edea7db-7e6a-4e91-99bf-00f5f7e3e8fb')\"\n",
              "              title=\"Convert this dataframe to an interactive table.\"\n",
              "              style=\"display:none;\">\n",
              "        \n",
              "  <svg xmlns=\"http://www.w3.org/2000/svg\" height=\"24px\"viewBox=\"0 0 24 24\"\n",
              "       width=\"24px\">\n",
              "    <path d=\"M0 0h24v24H0V0z\" fill=\"none\"/>\n",
              "    <path d=\"M18.56 5.44l.94 2.06.94-2.06 2.06-.94-2.06-.94-.94-2.06-.94 2.06-2.06.94zm-11 1L8.5 8.5l.94-2.06 2.06-.94-2.06-.94L8.5 2.5l-.94 2.06-2.06.94zm10 10l.94 2.06.94-2.06 2.06-.94-2.06-.94-.94-2.06-.94 2.06-2.06.94z\"/><path d=\"M17.41 7.96l-1.37-1.37c-.4-.4-.92-.59-1.43-.59-.52 0-1.04.2-1.43.59L10.3 9.45l-7.72 7.72c-.78.78-.78 2.05 0 2.83L4 21.41c.39.39.9.59 1.41.59.51 0 1.02-.2 1.41-.59l7.78-7.78 2.81-2.81c.8-.78.8-2.07 0-2.86zM5.41 20L4 18.59l7.72-7.72 1.47 1.35L5.41 20z\"/>\n",
              "  </svg>\n",
              "      </button>\n",
              "      \n",
              "  <style>\n",
              "    .colab-df-container {\n",
              "      display:flex;\n",
              "      flex-wrap:wrap;\n",
              "      gap: 12px;\n",
              "    }\n",
              "\n",
              "    .colab-df-convert {\n",
              "      background-color: #E8F0FE;\n",
              "      border: none;\n",
              "      border-radius: 50%;\n",
              "      cursor: pointer;\n",
              "      display: none;\n",
              "      fill: #1967D2;\n",
              "      height: 32px;\n",
              "      padding: 0 0 0 0;\n",
              "      width: 32px;\n",
              "    }\n",
              "\n",
              "    .colab-df-convert:hover {\n",
              "      background-color: #E2EBFA;\n",
              "      box-shadow: 0px 1px 2px rgba(60, 64, 67, 0.3), 0px 1px 3px 1px rgba(60, 64, 67, 0.15);\n",
              "      fill: #174EA6;\n",
              "    }\n",
              "\n",
              "    [theme=dark] .colab-df-convert {\n",
              "      background-color: #3B4455;\n",
              "      fill: #D2E3FC;\n",
              "    }\n",
              "\n",
              "    [theme=dark] .colab-df-convert:hover {\n",
              "      background-color: #434B5C;\n",
              "      box-shadow: 0px 1px 3px 1px rgba(0, 0, 0, 0.15);\n",
              "      filter: drop-shadow(0px 1px 2px rgba(0, 0, 0, 0.3));\n",
              "      fill: #FFFFFF;\n",
              "    }\n",
              "  </style>\n",
              "\n",
              "      <script>\n",
              "        const buttonEl =\n",
              "          document.querySelector('#df-6edea7db-7e6a-4e91-99bf-00f5f7e3e8fb button.colab-df-convert');\n",
              "        buttonEl.style.display =\n",
              "          google.colab.kernel.accessAllowed ? 'block' : 'none';\n",
              "\n",
              "        async function convertToInteractive(key) {\n",
              "          const element = document.querySelector('#df-6edea7db-7e6a-4e91-99bf-00f5f7e3e8fb');\n",
              "          const dataTable =\n",
              "            await google.colab.kernel.invokeFunction('convertToInteractive',\n",
              "                                                     [key], {});\n",
              "          if (!dataTable) return;\n",
              "\n",
              "          const docLinkHtml = 'Like what you see? Visit the ' +\n",
              "            '<a target=\"_blank\" href=https://colab.research.google.com/notebooks/data_table.ipynb>data table notebook</a>'\n",
              "            + ' to learn more about interactive tables.';\n",
              "          element.innerHTML = '';\n",
              "          dataTable['output_type'] = 'display_data';\n",
              "          await google.colab.output.renderOutput(dataTable, element);\n",
              "          const docLink = document.createElement('div');\n",
              "          docLink.innerHTML = docLinkHtml;\n",
              "          element.appendChild(docLink);\n",
              "        }\n",
              "      </script>\n",
              "    </div>\n",
              "  </div>\n",
              "  "
            ]
          },
          "metadata": {},
          "execution_count": 827
        }
      ]
    },
    {
      "cell_type": "markdown",
      "source": [
        "#### 4. Transformando tipos de dados para os mais adequados"
      ],
      "metadata": {
        "id": "DpGkBwYyxJ-x"
      }
    },
    {
      "cell_type": "code",
      "source": [
        "dados_olist.info()"
      ],
      "metadata": {
        "colab": {
          "base_uri": "https://localhost:8080/"
        },
        "id": "wasj1KwtxLhx",
        "outputId": "31d4e5c5-b51c-47cc-a084-6a795ea478f3"
      },
      "execution_count": null,
      "outputs": [
        {
          "output_type": "stream",
          "name": "stdout",
          "text": [
            "<class 'pandas.core.frame.DataFrame'>\n",
            "Int64Index: 113390 entries, 0 to 113389\n",
            "Data columns (total 33 columns):\n",
            " #   Column                         Non-Null Count   Dtype  \n",
            "---  ------                         --------------   -----  \n",
            " 0   customer_id                    113390 non-null  object \n",
            " 1   customer_unique_id             113390 non-null  object \n",
            " 2   customer_zip_code_prefix       113390 non-null  int64  \n",
            " 3   customer_city                  113390 non-null  object \n",
            " 4   customer_state                 113390 non-null  object \n",
            " 5   order_id                       113390 non-null  object \n",
            " 6   order_status                   113390 non-null  object \n",
            " 7   order_purchase_timestamp       113390 non-null  object \n",
            " 8   order_approved_at              113390 non-null  object \n",
            " 9   order_delivered_carrier_date   113390 non-null  object \n",
            " 10  order_delivered_customer_date  113390 non-null  object \n",
            " 11  order_estimated_delivery_date  113390 non-null  object \n",
            " 12  order_item_id                  113390 non-null  int64  \n",
            " 13  product_id                     113390 non-null  object \n",
            " 14  seller_id                      113390 non-null  object \n",
            " 15  shipping_limit_date            113390 non-null  object \n",
            " 16  price                          113390 non-null  float64\n",
            " 17  freight_value                  113390 non-null  float64\n",
            " 18  payment_sequential             113390 non-null  int64  \n",
            " 19  payment_type                   113390 non-null  object \n",
            " 20  payment_installments           113390 non-null  int64  \n",
            " 21  payment_value                  113390 non-null  float64\n",
            " 22  product_category_name          113390 non-null  object \n",
            " 23  product_name_lenght            113390 non-null  float64\n",
            " 24  product_description_lenght     113390 non-null  float64\n",
            " 25  product_photos_qty             113390 non-null  float64\n",
            " 26  product_weight_g               113390 non-null  float64\n",
            " 27  product_length_cm              113390 non-null  float64\n",
            " 28  product_height_cm              113390 non-null  float64\n",
            " 29  product_width_cm               113390 non-null  float64\n",
            " 30  seller_zip_code_prefix         113390 non-null  int64  \n",
            " 31  seller_city                    113390 non-null  object \n",
            " 32  seller_state                   113390 non-null  object \n",
            "dtypes: float64(10), int64(5), object(18)\n",
            "memory usage: 29.4+ MB\n"
          ]
        }
      ]
    },
    {
      "cell_type": "markdown",
      "source": [
        "**4.1 Colunas com datas**\n",
        "\n",
        "Existem diversas colunas que possuem registros em timestamp. Vamos converter todas estas para **datetime**."
      ],
      "metadata": {
        "id": "qFh0RBPm0Tr7"
      }
    },
    {
      "cell_type": "code",
      "source": [
        "colunas_datetime= ['order_purchase_timestamp', 'order_approved_at','order_delivered_carrier_date','order_delivered_customer_date',\n",
        "               'order_estimated_delivery_date', 'shipping_limit_date']\n",
        "dados_olist[colunas_datetime]=dados_olist[colunas_datetime].apply(pd.to_datetime)"
      ],
      "metadata": {
        "id": "3d9x9umbxXWH"
      },
      "execution_count": null,
      "outputs": []
    },
    {
      "cell_type": "markdown",
      "source": [
        "**4.2 Colunas de zipcode**\n",
        "\n",
        "As colunas de zipcode estão identificadas como int. Mas como são códigos que não serão usados para operações matemáticas, vamos convertê-las para string."
      ],
      "metadata": {
        "id": "gDjFkVXQ1YxV"
      }
    },
    {
      "cell_type": "code",
      "source": [
        "dados_olist['customer_zip_code_prefix'] = dados_olist['customer_zip_code_prefix'].astype(str)\n",
        "dados_olist['seller_zip_code_prefix'] = dados_olist['seller_zip_code_prefix'].astype(str)"
      ],
      "metadata": {
        "id": "xp2WK6jS00cB"
      },
      "execution_count": null,
      "outputs": []
    },
    {
      "cell_type": "markdown",
      "source": [
        "**4.3 Colunas de ID**\n",
        "\n",
        "A coluna '**order_item_id**' está como int64 e vamos converter para string."
      ],
      "metadata": {
        "id": "64BJepRC2EQj"
      }
    },
    {
      "cell_type": "code",
      "source": [
        "dados_olist['order_item_id'] = dados_olist['order_item_id'].astype(str)"
      ],
      "metadata": {
        "id": "IH2sJPXU2NLT"
      },
      "execution_count": null,
      "outputs": []
    },
    {
      "cell_type": "markdown",
      "source": [
        "**4.4 Colunas para Int**\n",
        "\n",
        "Neste dataframe, as colunas '**product_name_lenght**', '**product_description_lenght**' e '**product_photos_qty**' apresentam valores inteiros e não precisam estar em formato float. Vamos transformar em int.   "
      ],
      "metadata": {
        "id": "TfSYbmBR2ve_"
      }
    },
    {
      "cell_type": "code",
      "source": [
        "colunas_int = ['product_name_lenght', 'product_description_lenght', 'product_photos_qty']\n",
        "dados_olist[colunas_int]=dados_olist[colunas_int].astype('int64')\n"
      ],
      "metadata": {
        "id": "tUrqk8B72d_Q"
      },
      "execution_count": null,
      "outputs": []
    },
    {
      "cell_type": "markdown",
      "source": [
        "**4.5 Verificando os tipos de dados**"
      ],
      "metadata": {
        "id": "WDTMztsW3sC_"
      }
    },
    {
      "cell_type": "code",
      "source": [
        "dados_olist.info()"
      ],
      "metadata": {
        "colab": {
          "base_uri": "https://localhost:8080/"
        },
        "id": "Db_K5LsF3IqY",
        "outputId": "355f808d-afde-44de-e44f-9b84a8c41bb8"
      },
      "execution_count": null,
      "outputs": [
        {
          "output_type": "stream",
          "name": "stdout",
          "text": [
            "<class 'pandas.core.frame.DataFrame'>\n",
            "Int64Index: 113390 entries, 0 to 113389\n",
            "Data columns (total 33 columns):\n",
            " #   Column                         Non-Null Count   Dtype         \n",
            "---  ------                         --------------   -----         \n",
            " 0   customer_id                    113390 non-null  object        \n",
            " 1   customer_unique_id             113390 non-null  object        \n",
            " 2   customer_zip_code_prefix       113390 non-null  object        \n",
            " 3   customer_city                  113390 non-null  object        \n",
            " 4   customer_state                 113390 non-null  object        \n",
            " 5   order_id                       113390 non-null  object        \n",
            " 6   order_status                   113390 non-null  object        \n",
            " 7   order_purchase_timestamp       113390 non-null  datetime64[ns]\n",
            " 8   order_approved_at              113390 non-null  datetime64[ns]\n",
            " 9   order_delivered_carrier_date   113390 non-null  datetime64[ns]\n",
            " 10  order_delivered_customer_date  113390 non-null  datetime64[ns]\n",
            " 11  order_estimated_delivery_date  113390 non-null  datetime64[ns]\n",
            " 12  order_item_id                  113390 non-null  object        \n",
            " 13  product_id                     113390 non-null  object        \n",
            " 14  seller_id                      113390 non-null  object        \n",
            " 15  shipping_limit_date            113390 non-null  datetime64[ns]\n",
            " 16  price                          113390 non-null  float64       \n",
            " 17  freight_value                  113390 non-null  float64       \n",
            " 18  payment_sequential             113390 non-null  int64         \n",
            " 19  payment_type                   113390 non-null  object        \n",
            " 20  payment_installments           113390 non-null  int64         \n",
            " 21  payment_value                  113390 non-null  float64       \n",
            " 22  product_category_name          113390 non-null  object        \n",
            " 23  product_name_lenght            113390 non-null  int64         \n",
            " 24  product_description_lenght     113390 non-null  int64         \n",
            " 25  product_photos_qty             113390 non-null  int64         \n",
            " 26  product_weight_g               113390 non-null  float64       \n",
            " 27  product_length_cm              113390 non-null  float64       \n",
            " 28  product_height_cm              113390 non-null  float64       \n",
            " 29  product_width_cm               113390 non-null  float64       \n",
            " 30  seller_zip_code_prefix         113390 non-null  object        \n",
            " 31  seller_city                    113390 non-null  object        \n",
            " 32  seller_state                   113390 non-null  object        \n",
            "dtypes: datetime64[ns](6), float64(7), int64(5), object(15)\n",
            "memory usage: 29.4+ MB\n"
          ]
        }
      ]
    },
    {
      "cell_type": "markdown",
      "source": [
        "#### 5. Traduzindo colunas e registros"
      ],
      "metadata": {
        "id": "dpXXNJRj4b8B"
      }
    },
    {
      "cell_type": "markdown",
      "source": [
        "##### 5.1. Traduzindo as colunas"
      ],
      "metadata": {
        "id": "4RvgXXvzgiz8"
      }
    },
    {
      "cell_type": "code",
      "source": [
        "dados_olist.columns"
      ],
      "metadata": {
        "id": "MKCndsAX4fyb",
        "colab": {
          "base_uri": "https://localhost:8080/"
        },
        "outputId": "257cf96a-cc39-467f-c7ce-43b0f59d7e43"
      },
      "execution_count": null,
      "outputs": [
        {
          "output_type": "execute_result",
          "data": {
            "text/plain": [
              "Index(['customer_id', 'customer_unique_id', 'customer_zip_code_prefix',\n",
              "       'customer_city', 'customer_state', 'order_id', 'order_status',\n",
              "       'order_purchase_timestamp', 'order_approved_at',\n",
              "       'order_delivered_carrier_date', 'order_delivered_customer_date',\n",
              "       'order_estimated_delivery_date', 'order_item_id', 'product_id',\n",
              "       'seller_id', 'shipping_limit_date', 'price', 'freight_value',\n",
              "       'payment_sequential', 'payment_type', 'payment_installments',\n",
              "       'payment_value', 'product_category_name', 'product_name_lenght',\n",
              "       'product_description_lenght', 'product_photos_qty', 'product_weight_g',\n",
              "       'product_length_cm', 'product_height_cm', 'product_width_cm',\n",
              "       'seller_zip_code_prefix', 'seller_city', 'seller_state'],\n",
              "      dtype='object')"
            ]
          },
          "metadata": {},
          "execution_count": 834
        }
      ]
    },
    {
      "cell_type": "code",
      "source": [
        "colunas_traduzidas = {\n",
        "    'customer_id':'cliente_id',\n",
        "    'customer_unique_id':'cliente_id_unico', \n",
        "    'customer_zip_code_prefix':'cliente_cep_prefixo',\n",
        "    'customer_city':'cliente_cidade', \n",
        "    'customer_state':'cliente_estado', \n",
        "    'order_id':'pedido_id', \n",
        "    'customer_id':'cliente_id',\n",
        "    'order_status':'pedido_status', \n",
        "    'order_purchase_timestamp':'pedido_compra_datahora',\n",
        "    'order_approved_at':'pedido_aprovado_datahora', \n",
        "    'order_delivered_carrier_date':'pedido_postagem_datahora',\n",
        "    'order_delivered_customer_date':'pedido_entrega_datahora', \n",
        "    'order_estimated_delivery_date':'pedido_entrega_estimativa', \n",
        "    'order_item_id':'item_pedido_id', \n",
        "    'product_id':'produto_id', \n",
        "    'seller_id':'vendedor_id',\n",
        "    'shipping_limit_date':'data_entrega_limite', \n",
        "    'price':'preco', \n",
        "    'freight_value':'valor_frete',\n",
        "    'payment_sequential':'pagamento_sequencia', \n",
        "    'payment_type':'pagamento_tipo',\n",
        "    'payment_installments':'pagamento_parcelas', \n",
        "    'payment_value':'pagamento_valor', \n",
        "    'product_category_name':'produto_categoria', \n",
        "    'product_name_lenght':'produto_nome_tamanho',\n",
        "    'product_description_lenght':'produto_descricao_tamanho', \n",
        "    'product_photos_qty':'produto_fotos_qtd', \n",
        "    'product_weight_g':'produto_peso_g',\n",
        "    'product_length_cm':'produto_comprimento_cm', \n",
        "    'product_height_cm':'produto_altura_cm', \n",
        "    'product_width_cm':'produto_largura_cm',\n",
        "    'seller_zip_code_prefix':'vendedor_cep_prefixo',\n",
        "    'seller_city':'vendedor_cidade', \n",
        "    'seller_state':'vendedor_estado'  \n",
        "}\n",
        "\n",
        "dados_olist.rename(columns=colunas_traduzidas, inplace=True)\n",
        "dados_olist.head(3)"
      ],
      "metadata": {
        "colab": {
          "base_uri": "https://localhost:8080/",
          "height": 237
        },
        "id": "e8dEGaJkdu2a",
        "outputId": "245cb0cf-64f8-45df-f5ea-f4046fe98ab4"
      },
      "execution_count": null,
      "outputs": [
        {
          "output_type": "execute_result",
          "data": {
            "text/plain": [
              "                         cliente_id                  cliente_id_unico  \\\n",
              "0  06b8999e2fba1a1fbc88172c00ba8bc7  861eff4711a542e4b93843c6dd7febb0   \n",
              "1  8912fc0c3bbf1e2fbf35819e21706718  9eae34bbd3a474ec5d07949ca7de67c0   \n",
              "2  8912fc0c3bbf1e2fbf35819e21706718  9eae34bbd3a474ec5d07949ca7de67c0   \n",
              "\n",
              "  cliente_cep_prefixo cliente_cidade cliente_estado  \\\n",
              "0               14409         franca             SP   \n",
              "1               68030       santarem             PA   \n",
              "2               68030       santarem             PA   \n",
              "\n",
              "                          pedido_id pedido_status pedido_compra_datahora  \\\n",
              "0  00e7ee1b050b8499577073aeb2a297a1     delivered    2017-05-16 15:05:35   \n",
              "1  c1d2b34febe9cd269e378117d6681172     delivered    2017-11-09 00:50:13   \n",
              "2  c1d2b34febe9cd269e378117d6681172     delivered    2017-11-09 00:50:13   \n",
              "\n",
              "  pedido_aprovado_datahora pedido_postagem_datahora  ... produto_nome_tamanho  \\\n",
              "0      2017-05-16 15:22:12      2017-05-23 10:47:57  ...                   41   \n",
              "1      2017-11-10 00:47:48      2017-11-22 01:43:37  ...                   41   \n",
              "2      2017-11-10 00:47:48      2017-11-22 01:43:37  ...                   41   \n",
              "\n",
              "  produto_descricao_tamanho produto_fotos_qtd produto_peso_g  \\\n",
              "0                      1141                 1         8683.0   \n",
              "1                      1141                 1         8683.0   \n",
              "2                      1141                 1         8683.0   \n",
              "\n",
              "  produto_comprimento_cm produto_altura_cm  produto_largura_cm  \\\n",
              "0                   54.0              64.0                31.0   \n",
              "1                   54.0              64.0                31.0   \n",
              "2                   54.0              64.0                31.0   \n",
              "\n",
              "   vendedor_cep_prefixo  vendedor_cidade vendedor_estado  \n",
              "0                  8577  itaquaquecetuba              SP  \n",
              "1                  8577  itaquaquecetuba              SP  \n",
              "2                  8577  itaquaquecetuba              SP  \n",
              "\n",
              "[3 rows x 33 columns]"
            ],
            "text/html": [
              "\n",
              "  <div id=\"df-1c0c7567-255f-41a0-82df-960b504179e1\">\n",
              "    <div class=\"colab-df-container\">\n",
              "      <div>\n",
              "<style scoped>\n",
              "    .dataframe tbody tr th:only-of-type {\n",
              "        vertical-align: middle;\n",
              "    }\n",
              "\n",
              "    .dataframe tbody tr th {\n",
              "        vertical-align: top;\n",
              "    }\n",
              "\n",
              "    .dataframe thead th {\n",
              "        text-align: right;\n",
              "    }\n",
              "</style>\n",
              "<table border=\"1\" class=\"dataframe\">\n",
              "  <thead>\n",
              "    <tr style=\"text-align: right;\">\n",
              "      <th></th>\n",
              "      <th>cliente_id</th>\n",
              "      <th>cliente_id_unico</th>\n",
              "      <th>cliente_cep_prefixo</th>\n",
              "      <th>cliente_cidade</th>\n",
              "      <th>cliente_estado</th>\n",
              "      <th>pedido_id</th>\n",
              "      <th>pedido_status</th>\n",
              "      <th>pedido_compra_datahora</th>\n",
              "      <th>pedido_aprovado_datahora</th>\n",
              "      <th>pedido_postagem_datahora</th>\n",
              "      <th>...</th>\n",
              "      <th>produto_nome_tamanho</th>\n",
              "      <th>produto_descricao_tamanho</th>\n",
              "      <th>produto_fotos_qtd</th>\n",
              "      <th>produto_peso_g</th>\n",
              "      <th>produto_comprimento_cm</th>\n",
              "      <th>produto_altura_cm</th>\n",
              "      <th>produto_largura_cm</th>\n",
              "      <th>vendedor_cep_prefixo</th>\n",
              "      <th>vendedor_cidade</th>\n",
              "      <th>vendedor_estado</th>\n",
              "    </tr>\n",
              "  </thead>\n",
              "  <tbody>\n",
              "    <tr>\n",
              "      <th>0</th>\n",
              "      <td>06b8999e2fba1a1fbc88172c00ba8bc7</td>\n",
              "      <td>861eff4711a542e4b93843c6dd7febb0</td>\n",
              "      <td>14409</td>\n",
              "      <td>franca</td>\n",
              "      <td>SP</td>\n",
              "      <td>00e7ee1b050b8499577073aeb2a297a1</td>\n",
              "      <td>delivered</td>\n",
              "      <td>2017-05-16 15:05:35</td>\n",
              "      <td>2017-05-16 15:22:12</td>\n",
              "      <td>2017-05-23 10:47:57</td>\n",
              "      <td>...</td>\n",
              "      <td>41</td>\n",
              "      <td>1141</td>\n",
              "      <td>1</td>\n",
              "      <td>8683.0</td>\n",
              "      <td>54.0</td>\n",
              "      <td>64.0</td>\n",
              "      <td>31.0</td>\n",
              "      <td>8577</td>\n",
              "      <td>itaquaquecetuba</td>\n",
              "      <td>SP</td>\n",
              "    </tr>\n",
              "    <tr>\n",
              "      <th>1</th>\n",
              "      <td>8912fc0c3bbf1e2fbf35819e21706718</td>\n",
              "      <td>9eae34bbd3a474ec5d07949ca7de67c0</td>\n",
              "      <td>68030</td>\n",
              "      <td>santarem</td>\n",
              "      <td>PA</td>\n",
              "      <td>c1d2b34febe9cd269e378117d6681172</td>\n",
              "      <td>delivered</td>\n",
              "      <td>2017-11-09 00:50:13</td>\n",
              "      <td>2017-11-10 00:47:48</td>\n",
              "      <td>2017-11-22 01:43:37</td>\n",
              "      <td>...</td>\n",
              "      <td>41</td>\n",
              "      <td>1141</td>\n",
              "      <td>1</td>\n",
              "      <td>8683.0</td>\n",
              "      <td>54.0</td>\n",
              "      <td>64.0</td>\n",
              "      <td>31.0</td>\n",
              "      <td>8577</td>\n",
              "      <td>itaquaquecetuba</td>\n",
              "      <td>SP</td>\n",
              "    </tr>\n",
              "    <tr>\n",
              "      <th>2</th>\n",
              "      <td>8912fc0c3bbf1e2fbf35819e21706718</td>\n",
              "      <td>9eae34bbd3a474ec5d07949ca7de67c0</td>\n",
              "      <td>68030</td>\n",
              "      <td>santarem</td>\n",
              "      <td>PA</td>\n",
              "      <td>c1d2b34febe9cd269e378117d6681172</td>\n",
              "      <td>delivered</td>\n",
              "      <td>2017-11-09 00:50:13</td>\n",
              "      <td>2017-11-10 00:47:48</td>\n",
              "      <td>2017-11-22 01:43:37</td>\n",
              "      <td>...</td>\n",
              "      <td>41</td>\n",
              "      <td>1141</td>\n",
              "      <td>1</td>\n",
              "      <td>8683.0</td>\n",
              "      <td>54.0</td>\n",
              "      <td>64.0</td>\n",
              "      <td>31.0</td>\n",
              "      <td>8577</td>\n",
              "      <td>itaquaquecetuba</td>\n",
              "      <td>SP</td>\n",
              "    </tr>\n",
              "  </tbody>\n",
              "</table>\n",
              "<p>3 rows × 33 columns</p>\n",
              "</div>\n",
              "      <button class=\"colab-df-convert\" onclick=\"convertToInteractive('df-1c0c7567-255f-41a0-82df-960b504179e1')\"\n",
              "              title=\"Convert this dataframe to an interactive table.\"\n",
              "              style=\"display:none;\">\n",
              "        \n",
              "  <svg xmlns=\"http://www.w3.org/2000/svg\" height=\"24px\"viewBox=\"0 0 24 24\"\n",
              "       width=\"24px\">\n",
              "    <path d=\"M0 0h24v24H0V0z\" fill=\"none\"/>\n",
              "    <path d=\"M18.56 5.44l.94 2.06.94-2.06 2.06-.94-2.06-.94-.94-2.06-.94 2.06-2.06.94zm-11 1L8.5 8.5l.94-2.06 2.06-.94-2.06-.94L8.5 2.5l-.94 2.06-2.06.94zm10 10l.94 2.06.94-2.06 2.06-.94-2.06-.94-.94-2.06-.94 2.06-2.06.94z\"/><path d=\"M17.41 7.96l-1.37-1.37c-.4-.4-.92-.59-1.43-.59-.52 0-1.04.2-1.43.59L10.3 9.45l-7.72 7.72c-.78.78-.78 2.05 0 2.83L4 21.41c.39.39.9.59 1.41.59.51 0 1.02-.2 1.41-.59l7.78-7.78 2.81-2.81c.8-.78.8-2.07 0-2.86zM5.41 20L4 18.59l7.72-7.72 1.47 1.35L5.41 20z\"/>\n",
              "  </svg>\n",
              "      </button>\n",
              "      \n",
              "  <style>\n",
              "    .colab-df-container {\n",
              "      display:flex;\n",
              "      flex-wrap:wrap;\n",
              "      gap: 12px;\n",
              "    }\n",
              "\n",
              "    .colab-df-convert {\n",
              "      background-color: #E8F0FE;\n",
              "      border: none;\n",
              "      border-radius: 50%;\n",
              "      cursor: pointer;\n",
              "      display: none;\n",
              "      fill: #1967D2;\n",
              "      height: 32px;\n",
              "      padding: 0 0 0 0;\n",
              "      width: 32px;\n",
              "    }\n",
              "\n",
              "    .colab-df-convert:hover {\n",
              "      background-color: #E2EBFA;\n",
              "      box-shadow: 0px 1px 2px rgba(60, 64, 67, 0.3), 0px 1px 3px 1px rgba(60, 64, 67, 0.15);\n",
              "      fill: #174EA6;\n",
              "    }\n",
              "\n",
              "    [theme=dark] .colab-df-convert {\n",
              "      background-color: #3B4455;\n",
              "      fill: #D2E3FC;\n",
              "    }\n",
              "\n",
              "    [theme=dark] .colab-df-convert:hover {\n",
              "      background-color: #434B5C;\n",
              "      box-shadow: 0px 1px 3px 1px rgba(0, 0, 0, 0.15);\n",
              "      filter: drop-shadow(0px 1px 2px rgba(0, 0, 0, 0.3));\n",
              "      fill: #FFFFFF;\n",
              "    }\n",
              "  </style>\n",
              "\n",
              "      <script>\n",
              "        const buttonEl =\n",
              "          document.querySelector('#df-1c0c7567-255f-41a0-82df-960b504179e1 button.colab-df-convert');\n",
              "        buttonEl.style.display =\n",
              "          google.colab.kernel.accessAllowed ? 'block' : 'none';\n",
              "\n",
              "        async function convertToInteractive(key) {\n",
              "          const element = document.querySelector('#df-1c0c7567-255f-41a0-82df-960b504179e1');\n",
              "          const dataTable =\n",
              "            await google.colab.kernel.invokeFunction('convertToInteractive',\n",
              "                                                     [key], {});\n",
              "          if (!dataTable) return;\n",
              "\n",
              "          const docLinkHtml = 'Like what you see? Visit the ' +\n",
              "            '<a target=\"_blank\" href=https://colab.research.google.com/notebooks/data_table.ipynb>data table notebook</a>'\n",
              "            + ' to learn more about interactive tables.';\n",
              "          element.innerHTML = '';\n",
              "          dataTable['output_type'] = 'display_data';\n",
              "          await google.colab.output.renderOutput(dataTable, element);\n",
              "          const docLink = document.createElement('div');\n",
              "          docLink.innerHTML = docLinkHtml;\n",
              "          element.appendChild(docLink);\n",
              "        }\n",
              "      </script>\n",
              "    </div>\n",
              "  </div>\n",
              "  "
            ]
          },
          "metadata": {},
          "execution_count": 835
        }
      ]
    },
    {
      "cell_type": "code",
      "source": [
        "dados_olist.columns"
      ],
      "metadata": {
        "colab": {
          "base_uri": "https://localhost:8080/"
        },
        "id": "rnRSliMFqRjk",
        "outputId": "433ad8e1-0d8a-4c89-a388-99086787bc6b"
      },
      "execution_count": null,
      "outputs": [
        {
          "output_type": "execute_result",
          "data": {
            "text/plain": [
              "Index(['cliente_id', 'cliente_id_unico', 'cliente_cep_prefixo',\n",
              "       'cliente_cidade', 'cliente_estado', 'pedido_id', 'pedido_status',\n",
              "       'pedido_compra_datahora', 'pedido_aprovado_datahora',\n",
              "       'pedido_postagem_datahora', 'pedido_entrega_datahora',\n",
              "       'pedido_entrega_estimativa', 'item_pedido_id', 'produto_id',\n",
              "       'vendedor_id', 'data_entrega_limite', 'preco', 'valor_frete',\n",
              "       'pagamento_sequencia', 'pagamento_tipo', 'pagamento_parcelas',\n",
              "       'pagamento_valor', 'produto_categoria', 'produto_nome_tamanho',\n",
              "       'produto_descricao_tamanho', 'produto_fotos_qtd', 'produto_peso_g',\n",
              "       'produto_comprimento_cm', 'produto_altura_cm', 'produto_largura_cm',\n",
              "       'vendedor_cep_prefixo', 'vendedor_cidade', 'vendedor_estado'],\n",
              "      dtype='object')"
            ]
          },
          "metadata": {},
          "execution_count": 836
        }
      ]
    },
    {
      "cell_type": "markdown",
      "source": [
        "##### 5.2. Traduzindo valores de variáveis categóricas"
      ],
      "metadata": {
        "id": "n3m1fVF0gtul"
      }
    },
    {
      "cell_type": "markdown",
      "source": [
        "pedido_status"
      ],
      "metadata": {
        "id": "zGve-A0AhQOL"
      }
    },
    {
      "cell_type": "code",
      "source": [
        "dados_olist['pedido_status'].unique()"
      ],
      "metadata": {
        "colab": {
          "base_uri": "https://localhost:8080/"
        },
        "id": "xqgHlIBngVz6",
        "outputId": "c71aa269-32fa-49e0-ccaa-bbcb4f64274e"
      },
      "execution_count": null,
      "outputs": [
        {
          "output_type": "execute_result",
          "data": {
            "text/plain": [
              "array(['delivered', 'canceled'], dtype=object)"
            ]
          },
          "metadata": {},
          "execution_count": 837
        }
      ]
    },
    {
      "cell_type": "code",
      "source": [
        "traducao_pedido_status = {\n",
        "    'delivered':'entregue', \n",
        "    'canceled':'cancelado'\n",
        " }\n",
        "\n",
        "dados_olist['pedido_status'] = dados_olist['pedido_status'].map(traducao_pedido_status)\n",
        "dados_olist['pedido_status'].unique()"
      ],
      "metadata": {
        "colab": {
          "base_uri": "https://localhost:8080/"
        },
        "id": "W-3F6iUDhGsQ",
        "outputId": "56c9ebb2-e31f-457a-f5e1-c599593fb682"
      },
      "execution_count": null,
      "outputs": [
        {
          "output_type": "execute_result",
          "data": {
            "text/plain": [
              "array(['entregue', 'cancelado'], dtype=object)"
            ]
          },
          "metadata": {},
          "execution_count": 838
        }
      ]
    },
    {
      "cell_type": "markdown",
      "source": [
        "pagamento_tipo"
      ],
      "metadata": {
        "id": "YaZC7InthR61"
      }
    },
    {
      "cell_type": "code",
      "source": [
        "dados_olist['pagamento_tipo'].unique()"
      ],
      "metadata": {
        "colab": {
          "base_uri": "https://localhost:8080/"
        },
        "id": "KykVDTlChYwE",
        "outputId": "2864813c-d197-4a3d-dbb2-1269819af308"
      },
      "execution_count": null,
      "outputs": [
        {
          "output_type": "execute_result",
          "data": {
            "text/plain": [
              "array(['credit_card', 'boleto', 'voucher', 'debit_card'], dtype=object)"
            ]
          },
          "metadata": {},
          "execution_count": 839
        }
      ]
    },
    {
      "cell_type": "code",
      "source": [
        "traducao_pagamento_tipo = {'credit_card':'credito', \n",
        "                          'boleto':'boleto',\n",
        "                          'voucher':'voucher',\n",
        "                          'debit_card':'debito', \n",
        "                          'not_defined':'nao_informado'\n",
        " }\n",
        "\n",
        "dados_olist['pagamento_tipo'] = dados_olist['pagamento_tipo'].map(traducao_pagamento_tipo)\n",
        "dados_olist['pagamento_tipo'].unique()"
      ],
      "metadata": {
        "colab": {
          "base_uri": "https://localhost:8080/"
        },
        "id": "u4KmztyAhLX4",
        "outputId": "525ec3e4-87c0-4dff-8a03-7be541bdb4b4"
      },
      "execution_count": null,
      "outputs": [
        {
          "output_type": "execute_result",
          "data": {
            "text/plain": [
              "array(['credito', 'boleto', 'voucher', 'debito'], dtype=object)"
            ]
          },
          "metadata": {},
          "execution_count": 840
        }
      ]
    },
    {
      "cell_type": "markdown",
      "source": [
        "##### 5.3. [Extra] Padronizando os nomes de cidades"
      ],
      "metadata": {
        "id": "olBj_RKMh5Xe"
      }
    },
    {
      "cell_type": "markdown",
      "source": [
        "Vamos colocar as cidades com letra maiúscula em suas iniciais para facilitar a leitura e padronizar este tipo de dado. Temos duas colunas no dataframe para atualizar: 'cliente_cidade' e 'vendedor_cidade'\n",
        "\n",
        "Obs.: Como algumas cidades possuem as palavras como 'de', 'do', 'da', vamos usar uma função para garantir que estas permaneçam minúsculas."
      ],
      "metadata": {
        "id": "NjZti3fHiB6J"
      }
    },
    {
      "cell_type": "code",
      "source": [
        "dados_olist['cliente_cidade'] = dados_olist['cliente_cidade'].apply(lambda x: ' '.join(\n",
        "    word.capitalize() if word not in ['de', 'do', 'da', 'dos', 'das']\n",
        "                      else word\n",
        "                      for word in x.split()\n",
        "))"
      ],
      "metadata": {
        "id": "NFqmpjwJhcjg"
      },
      "execution_count": null,
      "outputs": []
    },
    {
      "cell_type": "code",
      "source": [
        "dados_olist['vendedor_cidade'] = dados_olist['vendedor_cidade'].apply(lambda x: ' '.join(\n",
        "    word.capitalize() if word not in ['de', 'do', 'da', 'dos', 'das'] \n",
        "                      else word\n",
        "                      for word in x.split()\n",
        "))"
      ],
      "metadata": {
        "id": "IKNUTCo8iUFq"
      },
      "execution_count": null,
      "outputs": []
    },
    {
      "cell_type": "markdown",
      "source": [
        "Verificando o output das funções acima:"
      ],
      "metadata": {
        "id": "i1UZrAF2juvG"
      }
    },
    {
      "cell_type": "code",
      "source": [
        "dados_olist['cliente_cidade'].unique()"
      ],
      "metadata": {
        "colab": {
          "base_uri": "https://localhost:8080/"
        },
        "id": "8VKFZwlHieWf",
        "outputId": "c985ac18-2f90-4bfc-aa18-83fe0f15d1f3"
      },
      "execution_count": null,
      "outputs": [
        {
          "output_type": "execute_result",
          "data": {
            "text/plain": [
              "array(['Franca', 'Santarem', 'Nova Santa Rita', ..., 'Cha Grande',\n",
              "       'Bacaxa', 'Tangara'], dtype=object)"
            ]
          },
          "metadata": {},
          "execution_count": 843
        }
      ]
    },
    {
      "cell_type": "code",
      "source": [
        "dados_olist['vendedor_cidade'].unique()"
      ],
      "metadata": {
        "colab": {
          "base_uri": "https://localhost:8080/"
        },
        "id": "Ksca4KEUipqf",
        "outputId": "2bdf13d4-27fc-4f2d-ac2e-5710eece998e"
      },
      "execution_count": null,
      "outputs": [
        {
          "output_type": "execute_result",
          "data": {
            "text/plain": [
              "array(['Itaquaquecetuba', 'Itajai', 'Ibitinga', 'Pirituba', 'Sao Paulo',\n",
              "       'Rio de Janeiro', 'Curitiba', 'Piracicaba', 'Itatiba', 'Jacutinga',\n",
              "       'Guaruja', 'Cariacica', 'Rio do Sul', 'Praia Grande',\n",
              "       'Porto Alegre', 'Sao Jose do Rio Preto', 'Ribeirao Preto', 'Maua',\n",
              "       'Toledo', 'Santo Andre', 'Limeira', 'Brasilia', 'Blumenau',\n",
              "       'Campo Limpo Paulista', 'Sorocaba', 'Uberlandia', 'Cascavel',\n",
              "       'Recife', 'Conchal', 'Vicente de Carvalho', 'Barueri', 'Campinas',\n",
              "       'Betim', 'Sao Luis', 'Vassouras', 'Guariba', 'Pradopolis',\n",
              "       'Sarandi', 'Maringa', 'Belo Horizonte', 'Sao Bernardo do Campo',\n",
              "       'Indaiatuba', 'Mogi Mirim', 'Sumare', 'Pocos de Caldas',\n",
              "       'Varzea Paulista', 'Foz do Iguacu', 'Sao Jose dos Campos',\n",
              "       'Ampere', 'Sao Sebastiao', 'Salto', 'Pinhais', 'Fortaleza',\n",
              "       'Japira', 'Tres Coracoes', 'Divinopolis', 'Rolandia', 'Claudio',\n",
              "       'Braganca Paulista', 'Borda da Mata', 'Osasco', 'Poa', 'Guarulhos',\n",
              "       'Francisco Beltrao', 'Serra Negra', 'Garopaba', 'Rio Claro', 'Jau',\n",
              "       'Sao Caetano do Sul', 'Louveira', 'Apucarana', 'Umuarama',\n",
              "       'Presidente Prudente', 'Ferraz de Vasconcelos', 'Sao Goncalo',\n",
              "       'Petropolis', 'Cotia', 'Maua/sao Paulo', 'Jussara',\n",
              "       'Riberao Preto', 'Nova Friburgo', 'Cerqueira Cesar', 'Nova Lima',\n",
              "       'Araucaria', 'Guaratuba', 'Ipaussu', 'Mogi Guacu', 'Taruma',\n",
              "       'Tubarao', 'Franca', 'Floresta', 'Embu Guacu', 'Boituva',\n",
              "       'Sao Joaquim da Barra', 'Sao Paulo - Sp', 'Registro',\n",
              "       'Mogi das Cruzes', 'Sao Carlos', 'Paranavai', 'Canoas', 'Jarinu',\n",
              "       'Florianopolis', 'Birigui', 'Uba', 'Campo Bom', 'Hortolandia',\n",
              "       'Araras', 'Alfenas', 'Teresopolis', 'Videira', 'Icara', 'Brusque',\n",
              "       'Jacarei', 'Lauro de Freitas', 'Jaguariuna', 'Lajeado', 'Paulinia',\n",
              "       'Assis', 'Monte Siao', 'Londrina', 'Cajamar', 'Goiania',\n",
              "       'Contagem', 'Guara', 'Cruzeiro', \"Santa Barbara D'oeste\",\n",
              "       'Carapicuiba', 'Penapolis', 'Sao Jose dos Pinhais', 'Jaboticabal',\n",
              "       'Aruja', 'Sete Lagoas', 'Laranjal Paulista', 'Atibaia', 'Timbo',\n",
              "       'Jundiai', 'Navegantes', 'Imigrante', 'Volta Redonda', 'Ilicinea',\n",
              "       'Itapevi', 'Aracatuba', 'Arapongas', 'Itapecerica da Serra',\n",
              "       'Joinville', 'Ponte Nova', 'Pedreira', 'Bauru', 'Santos',\n",
              "       'Jaragua do Sul', 'Novo Hamburgo', 'Taubate', 'Viamao', 'Formiga',\n",
              "       'Cuiaba', 'Clementina', 'Diadema', 'Marilia', 'Bento Goncalves',\n",
              "       'Americana', 'Caxias do Sul', 'Farroupilha', 'Cachoeirinha',\n",
              "       'Botucatu', 'Araguari', 'Conselheiro Lafaiete', 'Nilopolis',\n",
              "       'Votorantim', 'Santa Barbara D´oeste', 'Queimados', 'Aparecida',\n",
              "       'Porto Seguro', 'Fronteira', 'Lages', 'Tatui', 'Congonhal',\n",
              "       'Sao Pedro', 'Ribeirao Pires', 'Tiete', 'Dracena', 'Barretos',\n",
              "       'Aperibe', 'Aparecida de Goiania',\n",
              "       \"Arraial D'ajuda (porto Seguro)\", 'Mage', 'Parai', 'Catanduva',\n",
              "       'Sao Ludgero', 'Tres Rios', 'Balneario Camboriu', 'Patos de Minas',\n",
              "       'Porto Ferreira', 'Mirandopolis', 'Santo Angelo', 'Montenegro',\n",
              "       'Araraquara', 'Sao Leopoldo', 'Pitanga', 'Colombo', 'Campo Grande',\n",
              "       'Ao Bernardo do Campo', 'Lagoa da Prata', 'Fazenda Rio Grande',\n",
              "       'Vitoria', 'Santa Rita do Sapucai', 'Criciuma', 'Palhoca', 'Garca',\n",
              "       'Santo Andre/sao Paulo', 'Bariri', 'Uberaba', 'Ribeirao das Neves',\n",
              "       'Campo Largo', 'Varginha', 'S Jose do Rio Preto', 'Capivari',\n",
              "       'Santana de Parnaiba', 'Ji Parana', 'Jaguaruna', 'Pilar do Sul',\n",
              "       'Sando Andre', 'Anapolis', 'Niteroi', 'Brejao', 'Itauna',\n",
              "       'Mamanguape', 'Pato Branco', 'Carapicuiba / Sao Paulo', 'Ubatuba',\n",
              "       'Fernandopolis', 'Sombrio', 'Lencois Paulista', 'Nova Iguacu',\n",
              "       'Amparo', 'Franco da Rocha', 'Lagoa Santa',\n",
              "       'Santa Barbara D Oeste', 'Baependi', 'Curitibanos', 'Salvador',\n",
              "       'Batatais', 'Laranjeiras do Sul', 'Suzano', 'Bebedouro',\n",
              "       'Estancia Velha', 'Ourinhos', 'Teixeira Soares', 'Timoteo',\n",
              "       'Votuporanga', 'Sao Jose', 'Valinhos', 'Canoinhas', 'Formosa',\n",
              "       'Marechal Candido Rondon', 'Bertioga', 'Sinop',\n",
              "       'Santa Terezinha de Itaipu', 'Vitoria de Santo Antao', 'Tupa',\n",
              "       'Camanducaia', 'Sao Paluo', 'Caruaru', 'Taboao da Serra',\n",
              "       'Cananeia', 'Mineiros do Tiete', 'Vargem Grande do Sul', 'Ibia',\n",
              "       'Congonhas', 'Indaial', 'Parnamirim', 'Ouro Fino', 'Jales',\n",
              "       'Santo Antonio de Padua', 'Macae', 'Barra Mansa', 'Paraiba do Sul',\n",
              "       'Mococa', 'Domingos Martins', 'Ribeirao Preto / Sao Paulo',\n",
              "       'Campo do Meio', 'Mesquita', 'Presidente Epitacio',\n",
              "       'Coronel Fabriciano', 'Campina Grande', 'Scao Jose do Rio Pardo',\n",
              "       'Minas Gerais', 'Vicosa', 'Portao', 'Sao Roque', 'Eunapolis',\n",
              "       'Santa Rosa de Viterbo', 'Itapetininga', 'Tabatinga',\n",
              "       'Cornelio Procopio', 'Mateus Leme', 'Carazinho', 'Cafelandia',\n",
              "       'Bombinhas', 'Arvorezinha', 'Itu', 'Sapiranga', 'Ipatinga',\n",
              "       'Sao Joao Del Rei', 'Rolante', 'Andradas', 'Pinhalao', 'Sp / Sp',\n",
              "       'Novo Horizonte', 'Echapora', 'Saquarema', 'Loanda', 'Luziania',\n",
              "       'Braco do Norte', 'Fernando Prestes', 'Juiz de Fora', 'Barbacena',\n",
              "       'Itaporanga', 'Rio Grande', 'Concordia', 'Laurentino', 'Sbc/sp',\n",
              "       'Terra Boa', 'Imbituba', 'Andira-pr', 'Campo Magro', 'Cosmopolis',\n",
              "       'Ilheus', 'Campo Mourao', 'Socorro', 'Pedrinhas Paulista',\n",
              "       'Vila Velha', 'Sao Joao de Meriti', 'Porto Belo', 'Arinos',\n",
              "       'Paraiso do Sul', 'Monteiro Lobato', 'Artur Nogueira',\n",
              "       'Dois Corregos', 'Sao Jose do Rio Pardo', 'Montes Claros', 'Araxa',\n",
              "       'Descalvado', 'Engenheiro Coelho', 'Presidente Getulio',\n",
              "       'Nova Petropolis', 'Formosa do Oeste', 'Muqui', 'Ponta Grossa',\n",
              "       'Mirassol', 'Massaranduba', 'Teresina', 'Horizontina', 'Coxim',\n",
              "       'Bady Bassitt', 'Imbe', 'Duque de Caxias', 'Guanambi', 'Sp',\n",
              "       'Mandaguari', 'Extrema', 'Campina das Missoes', 'Flores da Cunha',\n",
              "       'Buritama', 'Castro', \"Sao Miguel D'oeste\", 'Entre Rios do Oeste',\n",
              "       'Brasilia Df', 'Mombuca', 'Venancio Aires', 'Uruacu',\n",
              "       'Vendas@creditparts.com.br', 'Nova Odessa', 'Chapeco', 'Garuva',\n",
              "       'Porto Velho', 'Natal', 'Mucambo', 'Afonso Claudio', 'Tanabi',\n",
              "       'Guanhaes', 'Igaracu do Tiete', 'Barbacena/ Minas Gerais',\n",
              "       'Jambeiro', 'Pelotas', 'Governador Valadares', 'Pinhais/pr',\n",
              "       'Gaspar', 'Ronda Alta', 'Jaciara', 'Sao Bento do Sul', 'Paracambi',\n",
              "       'Morrinhos', 'Jacarei / Sao Paulo', 'Gama', 'Sao Bento',\n",
              "       'Itirapina', 'Francisco Morato', 'Cachoeiro de Itapemirim',\n",
              "       'Itabira', 'Bage', 'Serra', 'Cordilheira Alta',\n",
              "       'Bonfinopolis de Minas', 'Marica', 'Pompeia', 'Bom Jardim',\n",
              "       'Rio Verde', 'Itajobi', 'Campos dos Goytacazes',\n",
              "       'Santo Antonio de Posse', 'Sao Jose do Rio Pret', 'Viana',\n",
              "       'Santo Antonio da Patrulha', 'Neopolis', 'Sao Paulo / Sao Paulo',\n",
              "       'Sao Pedro da Aldeia', 'Cravinhos', 'Luiz Alves', 'Parana',\n",
              "       'Caucaia', 'Mogi das Cruses', 'Jaragua', 'Cambe', 'Auriflama',\n",
              "       'Rio de Janeiro, Rio de Janeiro, Brasil',\n",
              "       'Rio de Janeiro \\\\rio de Janeiro', 'Taio', 'Barrinha', 'Lorena',\n",
              "       'Xanxere', 'Alvares Machado', 'Bahia', 'Joao Pessoa',\n",
              "       'Itaipulandia', 'Resende', 'Triunfo', 'Colatina', 'Leme',\n",
              "       'Serrana', 'Vargem Grande Paulista', 'Guaratingueta',\n",
              "       'Auriflama/sp', 'Paulo Lopes', 'Tiradentes', 'Paincandu',\n",
              "       'Sao Francisco do Sul', 'Garulhos', 'Mairipora', 'Sertanopolis',\n",
              "       'Santa Cruz do Sul', 'Cordeiropolis', 'Santa Maria',\n",
              "       'Bom Jesus dos Perdoes', 'Tres Coroas', 'Pitangueiras', 'Picarras',\n",
              "       'Mandirituba', 'Bocaiuva do Sul', 'Lambari', 'Alvorada', 'Itapeva',\n",
              "       'Cachoeira do Sul', 'Prados', 'Colorado', 'Sao Paulop',\n",
              "       'Sao Paulo Sp', 'Aracaju', 'Pedregulho', 'Treze Tilias',\n",
              "       'Sao Bernardo do Capo', 'Monte Alto', 'Irati',\n",
              "       'Santa Maria da Serra', 'Rio Bonito', 'Tabao da Serra',\n",
              "       'Messias Targino', 'Xaxim', 'Rio Negrinho', 'Rodeio',\n",
              "       'Carmo do Cajuru', 'Ararangua', 'Rio do Oeste', 'Mairinque',\n",
              "       'Sabara', 'Ipira', 'Brotas', 'Camboriu', 'Portoferreira',\n",
              "       'Robeirao Preto', 'Tres de Maio', 'Torres', 'Bofete',\n",
              "       'Angra dos Reis', 'Sao Miguel do Oeste', 'Sao Vicente',\n",
              "       'Guarapuava', 'Guiricema', 'Mandaguacu', 'Centro',\n",
              "       'Mogi das Cruzes / Sp', 'Barra Velha', 'Orlandia', 'Lages - Sc',\n",
              "       'Campos Novos', 'Pederneiras', 'Pinhalzinho', 'Cacador',\n",
              "       'California', 'Olimpia', 'Manaus', 'Embu das Artes',\n",
              "       'Cariacica / Es', 'Jaci', 'Cataguases', 'Bandeirantes',\n",
              "       'Barro Alto', 'Alambari', 'Rio de Janeiro / Rio de Janeiro',\n",
              "       'Uruguaiana', 'Nhandeara', 'Vespasiano', 'Joao Pinheiro',\n",
              "       'Castro Pires', 'Ribeirao Pretp', 'Dores de Campos',\n",
              "       'Floranopolis', 'São Paulo', 'Muriae', 'Pacatuba', 'Ipe',\n",
              "       'Imbituva', 'Cascavael', 'Nova Trento', 'Igrejinha',\n",
              "       'Angra dos Reis Rj', 'Itapema', 'Palotina', 'Cianorte', 'Ibirite',\n",
              "       'Itaborai', 'Santa Rosa', 'Feira de Santana', 'Campanha', 'Avare',\n",
              "       'Rio das Pedras', 'Itau de Minas', 'Guaimbe',\n",
              "       'Sao Jose dos Pinhas', 'Balenario Camboriu', 'Monte Alegre do Sul',\n",
              "       'Carmo da Mata', 'Uniao da Vitoria', 'Oliveira', 'Pedro Leopoldo',\n",
              "       'Marialva', 'Abadia de Goias', 'Osvaldo Cruz',\n",
              "       'Sao Joao da Boa Vista', 'Varzea Alegre', 'Santa Cecilia',\n",
              "       'Armacao dos Buzios', 'Sao Sebastiao da Grama/sp', 'Caratinga',\n",
              "       'Novo Hamburgo, Rio Grande do Sul, Brasil',\n",
              "       'Santa Terezinha de Goias', 'Tocantins', 'Condor', 'Belo Horizont',\n",
              "       'Macatuba', 'Guaira', 'Pato Bragado', 'Juzeiro do Norte',\n",
              "       'Belford Roxo', 'Itapui', 'Ivoti', 'Santa Catarina',\n",
              "       'Pouso Alegre', 'Irece', 'Laguna', 'Soledade', 'Erechim',\n",
              "       'Aguas Claras Df', 'Serra Redonda', 'Goioere', 'Janauba'],\n",
              "      dtype=object)"
            ]
          },
          "metadata": {},
          "execution_count": 844
        }
      ]
    },
    {
      "cell_type": "code",
      "source": [
        "\"\"\"No código acima encontramos uma 'cidade' que está registrada como e-mail 'Vendas@creditparts.com.br'.\n",
        "   Em uma rápida pesquisa deste email combinado com o prefixo do CEP, encontramos que a empresa é,\n",
        "   na verdade, de Maringá-PR. Então faremos essa rápida substituição para limpar este dado.\"\"\"\n",
        "   \n",
        "dados_olist['vendedor_cidade'].replace('Vendas@creditparts.com.br', 'Maringá', inplace=True)"
      ],
      "metadata": {
        "id": "9S99Gy4-k68y"
      },
      "execution_count": null,
      "outputs": []
    },
    {
      "cell_type": "code",
      "source": [
        "dados_olist.vendedor_cidade.unique()"
      ],
      "metadata": {
        "colab": {
          "base_uri": "https://localhost:8080/"
        },
        "id": "WdIofxt5lrD5",
        "outputId": "f62af982-0e63-4634-acbd-63ed705508ff"
      },
      "execution_count": null,
      "outputs": [
        {
          "output_type": "execute_result",
          "data": {
            "text/plain": [
              "array(['Itaquaquecetuba', 'Itajai', 'Ibitinga', 'Pirituba', 'Sao Paulo',\n",
              "       'Rio de Janeiro', 'Curitiba', 'Piracicaba', 'Itatiba', 'Jacutinga',\n",
              "       'Guaruja', 'Cariacica', 'Rio do Sul', 'Praia Grande',\n",
              "       'Porto Alegre', 'Sao Jose do Rio Preto', 'Ribeirao Preto', 'Maua',\n",
              "       'Toledo', 'Santo Andre', 'Limeira', 'Brasilia', 'Blumenau',\n",
              "       'Campo Limpo Paulista', 'Sorocaba', 'Uberlandia', 'Cascavel',\n",
              "       'Recife', 'Conchal', 'Vicente de Carvalho', 'Barueri', 'Campinas',\n",
              "       'Betim', 'Sao Luis', 'Vassouras', 'Guariba', 'Pradopolis',\n",
              "       'Sarandi', 'Maringa', 'Belo Horizonte', 'Sao Bernardo do Campo',\n",
              "       'Indaiatuba', 'Mogi Mirim', 'Sumare', 'Pocos de Caldas',\n",
              "       'Varzea Paulista', 'Foz do Iguacu', 'Sao Jose dos Campos',\n",
              "       'Ampere', 'Sao Sebastiao', 'Salto', 'Pinhais', 'Fortaleza',\n",
              "       'Japira', 'Tres Coracoes', 'Divinopolis', 'Rolandia', 'Claudio',\n",
              "       'Braganca Paulista', 'Borda da Mata', 'Osasco', 'Poa', 'Guarulhos',\n",
              "       'Francisco Beltrao', 'Serra Negra', 'Garopaba', 'Rio Claro', 'Jau',\n",
              "       'Sao Caetano do Sul', 'Louveira', 'Apucarana', 'Umuarama',\n",
              "       'Presidente Prudente', 'Ferraz de Vasconcelos', 'Sao Goncalo',\n",
              "       'Petropolis', 'Cotia', 'Maua/sao Paulo', 'Jussara',\n",
              "       'Riberao Preto', 'Nova Friburgo', 'Cerqueira Cesar', 'Nova Lima',\n",
              "       'Araucaria', 'Guaratuba', 'Ipaussu', 'Mogi Guacu', 'Taruma',\n",
              "       'Tubarao', 'Franca', 'Floresta', 'Embu Guacu', 'Boituva',\n",
              "       'Sao Joaquim da Barra', 'Sao Paulo - Sp', 'Registro',\n",
              "       'Mogi das Cruzes', 'Sao Carlos', 'Paranavai', 'Canoas', 'Jarinu',\n",
              "       'Florianopolis', 'Birigui', 'Uba', 'Campo Bom', 'Hortolandia',\n",
              "       'Araras', 'Alfenas', 'Teresopolis', 'Videira', 'Icara', 'Brusque',\n",
              "       'Jacarei', 'Lauro de Freitas', 'Jaguariuna', 'Lajeado', 'Paulinia',\n",
              "       'Assis', 'Monte Siao', 'Londrina', 'Cajamar', 'Goiania',\n",
              "       'Contagem', 'Guara', 'Cruzeiro', \"Santa Barbara D'oeste\",\n",
              "       'Carapicuiba', 'Penapolis', 'Sao Jose dos Pinhais', 'Jaboticabal',\n",
              "       'Aruja', 'Sete Lagoas', 'Laranjal Paulista', 'Atibaia', 'Timbo',\n",
              "       'Jundiai', 'Navegantes', 'Imigrante', 'Volta Redonda', 'Ilicinea',\n",
              "       'Itapevi', 'Aracatuba', 'Arapongas', 'Itapecerica da Serra',\n",
              "       'Joinville', 'Ponte Nova', 'Pedreira', 'Bauru', 'Santos',\n",
              "       'Jaragua do Sul', 'Novo Hamburgo', 'Taubate', 'Viamao', 'Formiga',\n",
              "       'Cuiaba', 'Clementina', 'Diadema', 'Marilia', 'Bento Goncalves',\n",
              "       'Americana', 'Caxias do Sul', 'Farroupilha', 'Cachoeirinha',\n",
              "       'Botucatu', 'Araguari', 'Conselheiro Lafaiete', 'Nilopolis',\n",
              "       'Votorantim', 'Santa Barbara D´oeste', 'Queimados', 'Aparecida',\n",
              "       'Porto Seguro', 'Fronteira', 'Lages', 'Tatui', 'Congonhal',\n",
              "       'Sao Pedro', 'Ribeirao Pires', 'Tiete', 'Dracena', 'Barretos',\n",
              "       'Aperibe', 'Aparecida de Goiania',\n",
              "       \"Arraial D'ajuda (porto Seguro)\", 'Mage', 'Parai', 'Catanduva',\n",
              "       'Sao Ludgero', 'Tres Rios', 'Balneario Camboriu', 'Patos de Minas',\n",
              "       'Porto Ferreira', 'Mirandopolis', 'Santo Angelo', 'Montenegro',\n",
              "       'Araraquara', 'Sao Leopoldo', 'Pitanga', 'Colombo', 'Campo Grande',\n",
              "       'Ao Bernardo do Campo', 'Lagoa da Prata', 'Fazenda Rio Grande',\n",
              "       'Vitoria', 'Santa Rita do Sapucai', 'Criciuma', 'Palhoca', 'Garca',\n",
              "       'Santo Andre/sao Paulo', 'Bariri', 'Uberaba', 'Ribeirao das Neves',\n",
              "       'Campo Largo', 'Varginha', 'S Jose do Rio Preto', 'Capivari',\n",
              "       'Santana de Parnaiba', 'Ji Parana', 'Jaguaruna', 'Pilar do Sul',\n",
              "       'Sando Andre', 'Anapolis', 'Niteroi', 'Brejao', 'Itauna',\n",
              "       'Mamanguape', 'Pato Branco', 'Carapicuiba / Sao Paulo', 'Ubatuba',\n",
              "       'Fernandopolis', 'Sombrio', 'Lencois Paulista', 'Nova Iguacu',\n",
              "       'Amparo', 'Franco da Rocha', 'Lagoa Santa',\n",
              "       'Santa Barbara D Oeste', 'Baependi', 'Curitibanos', 'Salvador',\n",
              "       'Batatais', 'Laranjeiras do Sul', 'Suzano', 'Bebedouro',\n",
              "       'Estancia Velha', 'Ourinhos', 'Teixeira Soares', 'Timoteo',\n",
              "       'Votuporanga', 'Sao Jose', 'Valinhos', 'Canoinhas', 'Formosa',\n",
              "       'Marechal Candido Rondon', 'Bertioga', 'Sinop',\n",
              "       'Santa Terezinha de Itaipu', 'Vitoria de Santo Antao', 'Tupa',\n",
              "       'Camanducaia', 'Sao Paluo', 'Caruaru', 'Taboao da Serra',\n",
              "       'Cananeia', 'Mineiros do Tiete', 'Vargem Grande do Sul', 'Ibia',\n",
              "       'Congonhas', 'Indaial', 'Parnamirim', 'Ouro Fino', 'Jales',\n",
              "       'Santo Antonio de Padua', 'Macae', 'Barra Mansa', 'Paraiba do Sul',\n",
              "       'Mococa', 'Domingos Martins', 'Ribeirao Preto / Sao Paulo',\n",
              "       'Campo do Meio', 'Mesquita', 'Presidente Epitacio',\n",
              "       'Coronel Fabriciano', 'Campina Grande', 'Scao Jose do Rio Pardo',\n",
              "       'Minas Gerais', 'Vicosa', 'Portao', 'Sao Roque', 'Eunapolis',\n",
              "       'Santa Rosa de Viterbo', 'Itapetininga', 'Tabatinga',\n",
              "       'Cornelio Procopio', 'Mateus Leme', 'Carazinho', 'Cafelandia',\n",
              "       'Bombinhas', 'Arvorezinha', 'Itu', 'Sapiranga', 'Ipatinga',\n",
              "       'Sao Joao Del Rei', 'Rolante', 'Andradas', 'Pinhalao', 'Sp / Sp',\n",
              "       'Novo Horizonte', 'Echapora', 'Saquarema', 'Loanda', 'Luziania',\n",
              "       'Braco do Norte', 'Fernando Prestes', 'Juiz de Fora', 'Barbacena',\n",
              "       'Itaporanga', 'Rio Grande', 'Concordia', 'Laurentino', 'Sbc/sp',\n",
              "       'Terra Boa', 'Imbituba', 'Andira-pr', 'Campo Magro', 'Cosmopolis',\n",
              "       'Ilheus', 'Campo Mourao', 'Socorro', 'Pedrinhas Paulista',\n",
              "       'Vila Velha', 'Sao Joao de Meriti', 'Porto Belo', 'Arinos',\n",
              "       'Paraiso do Sul', 'Monteiro Lobato', 'Artur Nogueira',\n",
              "       'Dois Corregos', 'Sao Jose do Rio Pardo', 'Montes Claros', 'Araxa',\n",
              "       'Descalvado', 'Engenheiro Coelho', 'Presidente Getulio',\n",
              "       'Nova Petropolis', 'Formosa do Oeste', 'Muqui', 'Ponta Grossa',\n",
              "       'Mirassol', 'Massaranduba', 'Teresina', 'Horizontina', 'Coxim',\n",
              "       'Bady Bassitt', 'Imbe', 'Duque de Caxias', 'Guanambi', 'Sp',\n",
              "       'Mandaguari', 'Extrema', 'Campina das Missoes', 'Flores da Cunha',\n",
              "       'Buritama', 'Castro', \"Sao Miguel D'oeste\", 'Entre Rios do Oeste',\n",
              "       'Brasilia Df', 'Mombuca', 'Venancio Aires', 'Uruacu', 'Maringá',\n",
              "       'Nova Odessa', 'Chapeco', 'Garuva', 'Porto Velho', 'Natal',\n",
              "       'Mucambo', 'Afonso Claudio', 'Tanabi', 'Guanhaes',\n",
              "       'Igaracu do Tiete', 'Barbacena/ Minas Gerais', 'Jambeiro',\n",
              "       'Pelotas', 'Governador Valadares', 'Pinhais/pr', 'Gaspar',\n",
              "       'Ronda Alta', 'Jaciara', 'Sao Bento do Sul', 'Paracambi',\n",
              "       'Morrinhos', 'Jacarei / Sao Paulo', 'Gama', 'Sao Bento',\n",
              "       'Itirapina', 'Francisco Morato', 'Cachoeiro de Itapemirim',\n",
              "       'Itabira', 'Bage', 'Serra', 'Cordilheira Alta',\n",
              "       'Bonfinopolis de Minas', 'Marica', 'Pompeia', 'Bom Jardim',\n",
              "       'Rio Verde', 'Itajobi', 'Campos dos Goytacazes',\n",
              "       'Santo Antonio de Posse', 'Sao Jose do Rio Pret', 'Viana',\n",
              "       'Santo Antonio da Patrulha', 'Neopolis', 'Sao Paulo / Sao Paulo',\n",
              "       'Sao Pedro da Aldeia', 'Cravinhos', 'Luiz Alves', 'Parana',\n",
              "       'Caucaia', 'Mogi das Cruses', 'Jaragua', 'Cambe', 'Auriflama',\n",
              "       'Rio de Janeiro, Rio de Janeiro, Brasil',\n",
              "       'Rio de Janeiro \\\\rio de Janeiro', 'Taio', 'Barrinha', 'Lorena',\n",
              "       'Xanxere', 'Alvares Machado', 'Bahia', 'Joao Pessoa',\n",
              "       'Itaipulandia', 'Resende', 'Triunfo', 'Colatina', 'Leme',\n",
              "       'Serrana', 'Vargem Grande Paulista', 'Guaratingueta',\n",
              "       'Auriflama/sp', 'Paulo Lopes', 'Tiradentes', 'Paincandu',\n",
              "       'Sao Francisco do Sul', 'Garulhos', 'Mairipora', 'Sertanopolis',\n",
              "       'Santa Cruz do Sul', 'Cordeiropolis', 'Santa Maria',\n",
              "       'Bom Jesus dos Perdoes', 'Tres Coroas', 'Pitangueiras', 'Picarras',\n",
              "       'Mandirituba', 'Bocaiuva do Sul', 'Lambari', 'Alvorada', 'Itapeva',\n",
              "       'Cachoeira do Sul', 'Prados', 'Colorado', 'Sao Paulop',\n",
              "       'Sao Paulo Sp', 'Aracaju', 'Pedregulho', 'Treze Tilias',\n",
              "       'Sao Bernardo do Capo', 'Monte Alto', 'Irati',\n",
              "       'Santa Maria da Serra', 'Rio Bonito', 'Tabao da Serra',\n",
              "       'Messias Targino', 'Xaxim', 'Rio Negrinho', 'Rodeio',\n",
              "       'Carmo do Cajuru', 'Ararangua', 'Rio do Oeste', 'Mairinque',\n",
              "       'Sabara', 'Ipira', 'Brotas', 'Camboriu', 'Portoferreira',\n",
              "       'Robeirao Preto', 'Tres de Maio', 'Torres', 'Bofete',\n",
              "       'Angra dos Reis', 'Sao Miguel do Oeste', 'Sao Vicente',\n",
              "       'Guarapuava', 'Guiricema', 'Mandaguacu', 'Centro',\n",
              "       'Mogi das Cruzes / Sp', 'Barra Velha', 'Orlandia', 'Lages - Sc',\n",
              "       'Campos Novos', 'Pederneiras', 'Pinhalzinho', 'Cacador',\n",
              "       'California', 'Olimpia', 'Manaus', 'Embu das Artes',\n",
              "       'Cariacica / Es', 'Jaci', 'Cataguases', 'Bandeirantes',\n",
              "       'Barro Alto', 'Alambari', 'Rio de Janeiro / Rio de Janeiro',\n",
              "       'Uruguaiana', 'Nhandeara', 'Vespasiano', 'Joao Pinheiro',\n",
              "       'Castro Pires', 'Ribeirao Pretp', 'Dores de Campos',\n",
              "       'Floranopolis', 'São Paulo', 'Muriae', 'Pacatuba', 'Ipe',\n",
              "       'Imbituva', 'Cascavael', 'Nova Trento', 'Igrejinha',\n",
              "       'Angra dos Reis Rj', 'Itapema', 'Palotina', 'Cianorte', 'Ibirite',\n",
              "       'Itaborai', 'Santa Rosa', 'Feira de Santana', 'Campanha', 'Avare',\n",
              "       'Rio das Pedras', 'Itau de Minas', 'Guaimbe',\n",
              "       'Sao Jose dos Pinhas', 'Balenario Camboriu', 'Monte Alegre do Sul',\n",
              "       'Carmo da Mata', 'Uniao da Vitoria', 'Oliveira', 'Pedro Leopoldo',\n",
              "       'Marialva', 'Abadia de Goias', 'Osvaldo Cruz',\n",
              "       'Sao Joao da Boa Vista', 'Varzea Alegre', 'Santa Cecilia',\n",
              "       'Armacao dos Buzios', 'Sao Sebastiao da Grama/sp', 'Caratinga',\n",
              "       'Novo Hamburgo, Rio Grande do Sul, Brasil',\n",
              "       'Santa Terezinha de Goias', 'Tocantins', 'Condor', 'Belo Horizont',\n",
              "       'Macatuba', 'Guaira', 'Pato Bragado', 'Juzeiro do Norte',\n",
              "       'Belford Roxo', 'Itapui', 'Ivoti', 'Santa Catarina',\n",
              "       'Pouso Alegre', 'Irece', 'Laguna', 'Soledade', 'Erechim',\n",
              "       'Aguas Claras Df', 'Serra Redonda', 'Goioere', 'Janauba'],\n",
              "      dtype=object)"
            ]
          },
          "metadata": {},
          "execution_count": 846
        }
      ]
    },
    {
      "cell_type": "code",
      "source": [
        "dados_olist.head(20)"
      ],
      "metadata": {
        "colab": {
          "base_uri": "https://localhost:8080/",
          "height": 804
        },
        "id": "_yDZPACUi5TD",
        "outputId": "b46b9f3c-016d-4b8e-d323-1e30fbaac5c0"
      },
      "execution_count": null,
      "outputs": [
        {
          "output_type": "execute_result",
          "data": {
            "text/plain": [
              "                          cliente_id                  cliente_id_unico  \\\n",
              "0   06b8999e2fba1a1fbc88172c00ba8bc7  861eff4711a542e4b93843c6dd7febb0   \n",
              "1   8912fc0c3bbf1e2fbf35819e21706718  9eae34bbd3a474ec5d07949ca7de67c0   \n",
              "2   8912fc0c3bbf1e2fbf35819e21706718  9eae34bbd3a474ec5d07949ca7de67c0   \n",
              "3   f0ac8e5a239118859b1734e1087cbb1f  3c799d181c34d51f6d44bbbc563024db   \n",
              "4   6bc8d08963a135220ed6c6d098831f84  23397e992b09769faf5e66f9e171a241   \n",
              "5   fd3a0b1bd209f0e7d420c9c3d1127613  567ab47ca4deb92d46dbf54dce07d0a7   \n",
              "6   fbd40c083aa8cddebb5265b2ba6aaf2e  f40ab89b622248b7ca125af4b486b887   \n",
              "7   10558ef4afea173bfb5e2cbe3d5b0bb5  749943913a9851a39c9baf51877fbab6   \n",
              "8   1c37c0f0cd1d88d46d9fc9494762abbd  432ecfa8b7b7ad2663c7abed0dc83c51   \n",
              "9   20a452f528d487411fd7d3ebda1d0f20  31318a0597cd9d50ce4cfd03c80fe780   \n",
              "10  20a452f528d487411fd7d3ebda1d0f20  31318a0597cd9d50ce4cfd03c80fe780   \n",
              "11  62f766c82849282806bf2f62ca86432e  83aca63b2193ea126b287f3ae61528d9   \n",
              "12  62f766c82849282806bf2f62ca86432e  83aca63b2193ea126b287f3ae61528d9   \n",
              "13  62f766c82849282806bf2f62ca86432e  83aca63b2193ea126b287f3ae61528d9   \n",
              "14  62f766c82849282806bf2f62ca86432e  83aca63b2193ea126b287f3ae61528d9   \n",
              "15  62f766c82849282806bf2f62ca86432e  83aca63b2193ea126b287f3ae61528d9   \n",
              "16  62f766c82849282806bf2f62ca86432e  83aca63b2193ea126b287f3ae61528d9   \n",
              "17  d3286ca43aa21423c6045b2806ca8e56  acd02fc85cf6339f896c161af2b6abcd   \n",
              "18  c49bec5f74f0413130abdaed8e7621d0  67d6f91d256bdf128fc960a166f413d5   \n",
              "19  0058ebe2dc136d918dd001968cfa5903  9e8993ba2665307b71bd1641c2e1cb3d   \n",
              "\n",
              "   cliente_cep_prefixo         cliente_cidade cliente_estado  \\\n",
              "0                14409                 Franca             SP   \n",
              "1                68030               Santarem             PA   \n",
              "2                68030               Santarem             PA   \n",
              "3                92480        Nova Santa Rita             RS   \n",
              "4                25931                   Mage             RJ   \n",
              "5                88460               Angelina             SC   \n",
              "6                32341               Contagem             MG   \n",
              "7                78134          Varzea Grande             MT   \n",
              "8                31270         Belo Horizonte             MG   \n",
              "9                37540  Santa Rita do Sapucai             MG   \n",
              "10               37540  Santa Rita do Sapucai             MG   \n",
              "11               89115                 Gaspar             SC   \n",
              "12               89115                 Gaspar             SC   \n",
              "13               89115                 Gaspar             SC   \n",
              "14               89115                 Gaspar             SC   \n",
              "15               89115                 Gaspar             SC   \n",
              "16               89115                 Gaspar             SC   \n",
              "17               96083                Pelotas             RS   \n",
              "18               25640             Petropolis             RJ   \n",
              "19               39495            Montalvania             MG   \n",
              "\n",
              "                           pedido_id pedido_status pedido_compra_datahora  \\\n",
              "0   00e7ee1b050b8499577073aeb2a297a1      entregue    2017-05-16 15:05:35   \n",
              "1   c1d2b34febe9cd269e378117d6681172      entregue    2017-11-09 00:50:13   \n",
              "2   c1d2b34febe9cd269e378117d6681172      entregue    2017-11-09 00:50:13   \n",
              "3   b1a5d5365d330d10485e0203d54ab9e8      entregue    2017-05-07 20:11:26   \n",
              "4   2e604b3614664aa66867856dba7e61b7      entregue    2018-02-03 19:45:40   \n",
              "5   574fe1739f65af76badd0999db300b4f      entregue    2017-03-23 15:10:17   \n",
              "6   e0b26f14d2bcc710bb02f77a4628763b      entregue    2017-05-16 10:00:49   \n",
              "7   eaae5bd20fb15d85aa673d9b7c0e8ca5      entregue    2017-03-18 23:04:36   \n",
              "8   c4e2bd2043fbd75b325a47adfabf0d77      entregue    2018-03-15 07:45:10   \n",
              "9   1c7fe02ac4c7be50c59afb295cf85b89      entregue    2018-01-26 13:22:09   \n",
              "10  1c7fe02ac4c7be50c59afb295cf85b89      entregue    2018-01-26 13:22:09   \n",
              "11  5ee63c8c9ae2e5c38791b35932cf4c69      entregue    2017-05-09 11:30:18   \n",
              "12  5ee63c8c9ae2e5c38791b35932cf4c69      entregue    2017-05-09 11:30:18   \n",
              "13  5ee63c8c9ae2e5c38791b35932cf4c69      entregue    2017-05-09 11:30:18   \n",
              "14  5ee63c8c9ae2e5c38791b35932cf4c69      entregue    2017-05-09 11:30:18   \n",
              "15  5ee63c8c9ae2e5c38791b35932cf4c69      entregue    2017-05-09 11:30:18   \n",
              "16  5ee63c8c9ae2e5c38791b35932cf4c69      entregue    2017-05-09 11:30:18   \n",
              "17  b1cc044d321053348a5e482ca7e6b2e3      entregue    2018-01-30 19:29:01   \n",
              "18  0d831c5aa932379c1cf5b0b1b40b214b      entregue    2017-10-13 10:36:54   \n",
              "19  27ae3ad0516a9b55f2236e24f690e01b      entregue    2017-02-09 16:19:02   \n",
              "\n",
              "   pedido_aprovado_datahora pedido_postagem_datahora  ...  \\\n",
              "0       2017-05-16 15:22:12      2017-05-23 10:47:57  ...   \n",
              "1       2017-11-10 00:47:48      2017-11-22 01:43:37  ...   \n",
              "2       2017-11-10 00:47:48      2017-11-22 01:43:37  ...   \n",
              "3       2017-05-08 22:22:56      2017-05-19 20:16:31  ...   \n",
              "4       2018-02-04 22:29:19      2018-02-19 18:21:47  ...   \n",
              "5       2017-03-23 15:25:11      2017-03-28 18:23:51  ...   \n",
              "6       2017-05-17 03:45:27      2017-05-23 10:35:48  ...   \n",
              "7       2017-03-18 23:04:36      2017-03-28 06:29:47  ...   \n",
              "8       2018-03-15 07:55:24      2018-03-27 15:58:41  ...   \n",
              "9       2018-01-30 03:47:31      2018-02-09 13:17:44  ...   \n",
              "10      2018-01-30 03:47:31      2018-02-09 13:17:44  ...   \n",
              "11      2017-05-09 11:45:13      2017-05-19 19:32:55  ...   \n",
              "12      2017-05-09 11:45:13      2017-05-19 19:32:55  ...   \n",
              "13      2017-05-09 11:45:13      2017-05-19 19:32:55  ...   \n",
              "14      2017-05-09 11:45:13      2017-05-19 19:32:55  ...   \n",
              "15      2017-05-09 11:45:13      2017-05-19 19:32:55  ...   \n",
              "16      2017-05-09 11:45:13      2017-05-19 19:32:55  ...   \n",
              "17      2018-01-30 19:54:04      2018-02-09 13:08:10  ...   \n",
              "18      2017-10-13 10:49:47      2017-10-24 18:58:49  ...   \n",
              "19      2017-02-09 16:30:12      2017-02-22 03:51:44  ...   \n",
              "\n",
              "   produto_nome_tamanho produto_descricao_tamanho produto_fotos_qtd  \\\n",
              "0                    41                      1141                 1   \n",
              "1                    41                      1141                 1   \n",
              "2                    41                      1141                 1   \n",
              "3                    41                      1141                 1   \n",
              "4                    41                      1141                 1   \n",
              "5                    41                      1141                 1   \n",
              "6                    41                      1141                 1   \n",
              "7                    41                      1141                 1   \n",
              "8                    41                      1141                 1   \n",
              "9                    41                      1141                 1   \n",
              "10                   41                      1141                 1   \n",
              "11                   41                      1141                 1   \n",
              "12                   41                      1141                 1   \n",
              "13                   41                      1141                 1   \n",
              "14                   41                      1141                 1   \n",
              "15                   41                      1141                 1   \n",
              "16                   41                      1141                 1   \n",
              "17                   41                      1141                 1   \n",
              "18                   41                      1141                 1   \n",
              "19                   41                      1141                 1   \n",
              "\n",
              "   produto_peso_g produto_comprimento_cm produto_altura_cm  \\\n",
              "0          8683.0                   54.0              64.0   \n",
              "1          8683.0                   54.0              64.0   \n",
              "2          8683.0                   54.0              64.0   \n",
              "3          8683.0                   54.0              64.0   \n",
              "4          8683.0                   54.0              64.0   \n",
              "5          8683.0                   54.0              64.0   \n",
              "6          8683.0                   54.0              64.0   \n",
              "7          8683.0                   54.0              64.0   \n",
              "8          8683.0                   54.0              64.0   \n",
              "9          8683.0                   54.0              64.0   \n",
              "10         8683.0                   54.0              64.0   \n",
              "11         8683.0                   54.0              64.0   \n",
              "12         8683.0                   54.0              64.0   \n",
              "13         8683.0                   54.0              64.0   \n",
              "14         8683.0                   54.0              64.0   \n",
              "15         8683.0                   54.0              64.0   \n",
              "16         8683.0                   54.0              64.0   \n",
              "17         8683.0                   54.0              64.0   \n",
              "18         8683.0                   54.0              64.0   \n",
              "19         8683.0                   54.0              64.0   \n",
              "\n",
              "    produto_largura_cm  vendedor_cep_prefixo  vendedor_cidade vendedor_estado  \n",
              "0                 31.0                  8577  Itaquaquecetuba              SP  \n",
              "1                 31.0                  8577  Itaquaquecetuba              SP  \n",
              "2                 31.0                  8577  Itaquaquecetuba              SP  \n",
              "3                 31.0                  8577  Itaquaquecetuba              SP  \n",
              "4                 31.0                  8577  Itaquaquecetuba              SP  \n",
              "5                 31.0                  8577  Itaquaquecetuba              SP  \n",
              "6                 31.0                  8577  Itaquaquecetuba              SP  \n",
              "7                 31.0                  8577  Itaquaquecetuba              SP  \n",
              "8                 31.0                  8577  Itaquaquecetuba              SP  \n",
              "9                 31.0                  8577  Itaquaquecetuba              SP  \n",
              "10                31.0                  8577  Itaquaquecetuba              SP  \n",
              "11                31.0                  8577  Itaquaquecetuba              SP  \n",
              "12                31.0                  8577  Itaquaquecetuba              SP  \n",
              "13                31.0                  8577  Itaquaquecetuba              SP  \n",
              "14                31.0                  8577  Itaquaquecetuba              SP  \n",
              "15                31.0                  8577  Itaquaquecetuba              SP  \n",
              "16                31.0                  8577  Itaquaquecetuba              SP  \n",
              "17                31.0                  8577  Itaquaquecetuba              SP  \n",
              "18                31.0                  8577  Itaquaquecetuba              SP  \n",
              "19                31.0                  8577  Itaquaquecetuba              SP  \n",
              "\n",
              "[20 rows x 33 columns]"
            ],
            "text/html": [
              "\n",
              "  <div id=\"df-725ffe92-1cd8-4e80-8b1d-c1be7f0c3595\">\n",
              "    <div class=\"colab-df-container\">\n",
              "      <div>\n",
              "<style scoped>\n",
              "    .dataframe tbody tr th:only-of-type {\n",
              "        vertical-align: middle;\n",
              "    }\n",
              "\n",
              "    .dataframe tbody tr th {\n",
              "        vertical-align: top;\n",
              "    }\n",
              "\n",
              "    .dataframe thead th {\n",
              "        text-align: right;\n",
              "    }\n",
              "</style>\n",
              "<table border=\"1\" class=\"dataframe\">\n",
              "  <thead>\n",
              "    <tr style=\"text-align: right;\">\n",
              "      <th></th>\n",
              "      <th>cliente_id</th>\n",
              "      <th>cliente_id_unico</th>\n",
              "      <th>cliente_cep_prefixo</th>\n",
              "      <th>cliente_cidade</th>\n",
              "      <th>cliente_estado</th>\n",
              "      <th>pedido_id</th>\n",
              "      <th>pedido_status</th>\n",
              "      <th>pedido_compra_datahora</th>\n",
              "      <th>pedido_aprovado_datahora</th>\n",
              "      <th>pedido_postagem_datahora</th>\n",
              "      <th>...</th>\n",
              "      <th>produto_nome_tamanho</th>\n",
              "      <th>produto_descricao_tamanho</th>\n",
              "      <th>produto_fotos_qtd</th>\n",
              "      <th>produto_peso_g</th>\n",
              "      <th>produto_comprimento_cm</th>\n",
              "      <th>produto_altura_cm</th>\n",
              "      <th>produto_largura_cm</th>\n",
              "      <th>vendedor_cep_prefixo</th>\n",
              "      <th>vendedor_cidade</th>\n",
              "      <th>vendedor_estado</th>\n",
              "    </tr>\n",
              "  </thead>\n",
              "  <tbody>\n",
              "    <tr>\n",
              "      <th>0</th>\n",
              "      <td>06b8999e2fba1a1fbc88172c00ba8bc7</td>\n",
              "      <td>861eff4711a542e4b93843c6dd7febb0</td>\n",
              "      <td>14409</td>\n",
              "      <td>Franca</td>\n",
              "      <td>SP</td>\n",
              "      <td>00e7ee1b050b8499577073aeb2a297a1</td>\n",
              "      <td>entregue</td>\n",
              "      <td>2017-05-16 15:05:35</td>\n",
              "      <td>2017-05-16 15:22:12</td>\n",
              "      <td>2017-05-23 10:47:57</td>\n",
              "      <td>...</td>\n",
              "      <td>41</td>\n",
              "      <td>1141</td>\n",
              "      <td>1</td>\n",
              "      <td>8683.0</td>\n",
              "      <td>54.0</td>\n",
              "      <td>64.0</td>\n",
              "      <td>31.0</td>\n",
              "      <td>8577</td>\n",
              "      <td>Itaquaquecetuba</td>\n",
              "      <td>SP</td>\n",
              "    </tr>\n",
              "    <tr>\n",
              "      <th>1</th>\n",
              "      <td>8912fc0c3bbf1e2fbf35819e21706718</td>\n",
              "      <td>9eae34bbd3a474ec5d07949ca7de67c0</td>\n",
              "      <td>68030</td>\n",
              "      <td>Santarem</td>\n",
              "      <td>PA</td>\n",
              "      <td>c1d2b34febe9cd269e378117d6681172</td>\n",
              "      <td>entregue</td>\n",
              "      <td>2017-11-09 00:50:13</td>\n",
              "      <td>2017-11-10 00:47:48</td>\n",
              "      <td>2017-11-22 01:43:37</td>\n",
              "      <td>...</td>\n",
              "      <td>41</td>\n",
              "      <td>1141</td>\n",
              "      <td>1</td>\n",
              "      <td>8683.0</td>\n",
              "      <td>54.0</td>\n",
              "      <td>64.0</td>\n",
              "      <td>31.0</td>\n",
              "      <td>8577</td>\n",
              "      <td>Itaquaquecetuba</td>\n",
              "      <td>SP</td>\n",
              "    </tr>\n",
              "    <tr>\n",
              "      <th>2</th>\n",
              "      <td>8912fc0c3bbf1e2fbf35819e21706718</td>\n",
              "      <td>9eae34bbd3a474ec5d07949ca7de67c0</td>\n",
              "      <td>68030</td>\n",
              "      <td>Santarem</td>\n",
              "      <td>PA</td>\n",
              "      <td>c1d2b34febe9cd269e378117d6681172</td>\n",
              "      <td>entregue</td>\n",
              "      <td>2017-11-09 00:50:13</td>\n",
              "      <td>2017-11-10 00:47:48</td>\n",
              "      <td>2017-11-22 01:43:37</td>\n",
              "      <td>...</td>\n",
              "      <td>41</td>\n",
              "      <td>1141</td>\n",
              "      <td>1</td>\n",
              "      <td>8683.0</td>\n",
              "      <td>54.0</td>\n",
              "      <td>64.0</td>\n",
              "      <td>31.0</td>\n",
              "      <td>8577</td>\n",
              "      <td>Itaquaquecetuba</td>\n",
              "      <td>SP</td>\n",
              "    </tr>\n",
              "    <tr>\n",
              "      <th>3</th>\n",
              "      <td>f0ac8e5a239118859b1734e1087cbb1f</td>\n",
              "      <td>3c799d181c34d51f6d44bbbc563024db</td>\n",
              "      <td>92480</td>\n",
              "      <td>Nova Santa Rita</td>\n",
              "      <td>RS</td>\n",
              "      <td>b1a5d5365d330d10485e0203d54ab9e8</td>\n",
              "      <td>entregue</td>\n",
              "      <td>2017-05-07 20:11:26</td>\n",
              "      <td>2017-05-08 22:22:56</td>\n",
              "      <td>2017-05-19 20:16:31</td>\n",
              "      <td>...</td>\n",
              "      <td>41</td>\n",
              "      <td>1141</td>\n",
              "      <td>1</td>\n",
              "      <td>8683.0</td>\n",
              "      <td>54.0</td>\n",
              "      <td>64.0</td>\n",
              "      <td>31.0</td>\n",
              "      <td>8577</td>\n",
              "      <td>Itaquaquecetuba</td>\n",
              "      <td>SP</td>\n",
              "    </tr>\n",
              "    <tr>\n",
              "      <th>4</th>\n",
              "      <td>6bc8d08963a135220ed6c6d098831f84</td>\n",
              "      <td>23397e992b09769faf5e66f9e171a241</td>\n",
              "      <td>25931</td>\n",
              "      <td>Mage</td>\n",
              "      <td>RJ</td>\n",
              "      <td>2e604b3614664aa66867856dba7e61b7</td>\n",
              "      <td>entregue</td>\n",
              "      <td>2018-02-03 19:45:40</td>\n",
              "      <td>2018-02-04 22:29:19</td>\n",
              "      <td>2018-02-19 18:21:47</td>\n",
              "      <td>...</td>\n",
              "      <td>41</td>\n",
              "      <td>1141</td>\n",
              "      <td>1</td>\n",
              "      <td>8683.0</td>\n",
              "      <td>54.0</td>\n",
              "      <td>64.0</td>\n",
              "      <td>31.0</td>\n",
              "      <td>8577</td>\n",
              "      <td>Itaquaquecetuba</td>\n",
              "      <td>SP</td>\n",
              "    </tr>\n",
              "    <tr>\n",
              "      <th>5</th>\n",
              "      <td>fd3a0b1bd209f0e7d420c9c3d1127613</td>\n",
              "      <td>567ab47ca4deb92d46dbf54dce07d0a7</td>\n",
              "      <td>88460</td>\n",
              "      <td>Angelina</td>\n",
              "      <td>SC</td>\n",
              "      <td>574fe1739f65af76badd0999db300b4f</td>\n",
              "      <td>entregue</td>\n",
              "      <td>2017-03-23 15:10:17</td>\n",
              "      <td>2017-03-23 15:25:11</td>\n",
              "      <td>2017-03-28 18:23:51</td>\n",
              "      <td>...</td>\n",
              "      <td>41</td>\n",
              "      <td>1141</td>\n",
              "      <td>1</td>\n",
              "      <td>8683.0</td>\n",
              "      <td>54.0</td>\n",
              "      <td>64.0</td>\n",
              "      <td>31.0</td>\n",
              "      <td>8577</td>\n",
              "      <td>Itaquaquecetuba</td>\n",
              "      <td>SP</td>\n",
              "    </tr>\n",
              "    <tr>\n",
              "      <th>6</th>\n",
              "      <td>fbd40c083aa8cddebb5265b2ba6aaf2e</td>\n",
              "      <td>f40ab89b622248b7ca125af4b486b887</td>\n",
              "      <td>32341</td>\n",
              "      <td>Contagem</td>\n",
              "      <td>MG</td>\n",
              "      <td>e0b26f14d2bcc710bb02f77a4628763b</td>\n",
              "      <td>entregue</td>\n",
              "      <td>2017-05-16 10:00:49</td>\n",
              "      <td>2017-05-17 03:45:27</td>\n",
              "      <td>2017-05-23 10:35:48</td>\n",
              "      <td>...</td>\n",
              "      <td>41</td>\n",
              "      <td>1141</td>\n",
              "      <td>1</td>\n",
              "      <td>8683.0</td>\n",
              "      <td>54.0</td>\n",
              "      <td>64.0</td>\n",
              "      <td>31.0</td>\n",
              "      <td>8577</td>\n",
              "      <td>Itaquaquecetuba</td>\n",
              "      <td>SP</td>\n",
              "    </tr>\n",
              "    <tr>\n",
              "      <th>7</th>\n",
              "      <td>10558ef4afea173bfb5e2cbe3d5b0bb5</td>\n",
              "      <td>749943913a9851a39c9baf51877fbab6</td>\n",
              "      <td>78134</td>\n",
              "      <td>Varzea Grande</td>\n",
              "      <td>MT</td>\n",
              "      <td>eaae5bd20fb15d85aa673d9b7c0e8ca5</td>\n",
              "      <td>entregue</td>\n",
              "      <td>2017-03-18 23:04:36</td>\n",
              "      <td>2017-03-18 23:04:36</td>\n",
              "      <td>2017-03-28 06:29:47</td>\n",
              "      <td>...</td>\n",
              "      <td>41</td>\n",
              "      <td>1141</td>\n",
              "      <td>1</td>\n",
              "      <td>8683.0</td>\n",
              "      <td>54.0</td>\n",
              "      <td>64.0</td>\n",
              "      <td>31.0</td>\n",
              "      <td>8577</td>\n",
              "      <td>Itaquaquecetuba</td>\n",
              "      <td>SP</td>\n",
              "    </tr>\n",
              "    <tr>\n",
              "      <th>8</th>\n",
              "      <td>1c37c0f0cd1d88d46d9fc9494762abbd</td>\n",
              "      <td>432ecfa8b7b7ad2663c7abed0dc83c51</td>\n",
              "      <td>31270</td>\n",
              "      <td>Belo Horizonte</td>\n",
              "      <td>MG</td>\n",
              "      <td>c4e2bd2043fbd75b325a47adfabf0d77</td>\n",
              "      <td>entregue</td>\n",
              "      <td>2018-03-15 07:45:10</td>\n",
              "      <td>2018-03-15 07:55:24</td>\n",
              "      <td>2018-03-27 15:58:41</td>\n",
              "      <td>...</td>\n",
              "      <td>41</td>\n",
              "      <td>1141</td>\n",
              "      <td>1</td>\n",
              "      <td>8683.0</td>\n",
              "      <td>54.0</td>\n",
              "      <td>64.0</td>\n",
              "      <td>31.0</td>\n",
              "      <td>8577</td>\n",
              "      <td>Itaquaquecetuba</td>\n",
              "      <td>SP</td>\n",
              "    </tr>\n",
              "    <tr>\n",
              "      <th>9</th>\n",
              "      <td>20a452f528d487411fd7d3ebda1d0f20</td>\n",
              "      <td>31318a0597cd9d50ce4cfd03c80fe780</td>\n",
              "      <td>37540</td>\n",
              "      <td>Santa Rita do Sapucai</td>\n",
              "      <td>MG</td>\n",
              "      <td>1c7fe02ac4c7be50c59afb295cf85b89</td>\n",
              "      <td>entregue</td>\n",
              "      <td>2018-01-26 13:22:09</td>\n",
              "      <td>2018-01-30 03:47:31</td>\n",
              "      <td>2018-02-09 13:17:44</td>\n",
              "      <td>...</td>\n",
              "      <td>41</td>\n",
              "      <td>1141</td>\n",
              "      <td>1</td>\n",
              "      <td>8683.0</td>\n",
              "      <td>54.0</td>\n",
              "      <td>64.0</td>\n",
              "      <td>31.0</td>\n",
              "      <td>8577</td>\n",
              "      <td>Itaquaquecetuba</td>\n",
              "      <td>SP</td>\n",
              "    </tr>\n",
              "    <tr>\n",
              "      <th>10</th>\n",
              "      <td>20a452f528d487411fd7d3ebda1d0f20</td>\n",
              "      <td>31318a0597cd9d50ce4cfd03c80fe780</td>\n",
              "      <td>37540</td>\n",
              "      <td>Santa Rita do Sapucai</td>\n",
              "      <td>MG</td>\n",
              "      <td>1c7fe02ac4c7be50c59afb295cf85b89</td>\n",
              "      <td>entregue</td>\n",
              "      <td>2018-01-26 13:22:09</td>\n",
              "      <td>2018-01-30 03:47:31</td>\n",
              "      <td>2018-02-09 13:17:44</td>\n",
              "      <td>...</td>\n",
              "      <td>41</td>\n",
              "      <td>1141</td>\n",
              "      <td>1</td>\n",
              "      <td>8683.0</td>\n",
              "      <td>54.0</td>\n",
              "      <td>64.0</td>\n",
              "      <td>31.0</td>\n",
              "      <td>8577</td>\n",
              "      <td>Itaquaquecetuba</td>\n",
              "      <td>SP</td>\n",
              "    </tr>\n",
              "    <tr>\n",
              "      <th>11</th>\n",
              "      <td>62f766c82849282806bf2f62ca86432e</td>\n",
              "      <td>83aca63b2193ea126b287f3ae61528d9</td>\n",
              "      <td>89115</td>\n",
              "      <td>Gaspar</td>\n",
              "      <td>SC</td>\n",
              "      <td>5ee63c8c9ae2e5c38791b35932cf4c69</td>\n",
              "      <td>entregue</td>\n",
              "      <td>2017-05-09 11:30:18</td>\n",
              "      <td>2017-05-09 11:45:13</td>\n",
              "      <td>2017-05-19 19:32:55</td>\n",
              "      <td>...</td>\n",
              "      <td>41</td>\n",
              "      <td>1141</td>\n",
              "      <td>1</td>\n",
              "      <td>8683.0</td>\n",
              "      <td>54.0</td>\n",
              "      <td>64.0</td>\n",
              "      <td>31.0</td>\n",
              "      <td>8577</td>\n",
              "      <td>Itaquaquecetuba</td>\n",
              "      <td>SP</td>\n",
              "    </tr>\n",
              "    <tr>\n",
              "      <th>12</th>\n",
              "      <td>62f766c82849282806bf2f62ca86432e</td>\n",
              "      <td>83aca63b2193ea126b287f3ae61528d9</td>\n",
              "      <td>89115</td>\n",
              "      <td>Gaspar</td>\n",
              "      <td>SC</td>\n",
              "      <td>5ee63c8c9ae2e5c38791b35932cf4c69</td>\n",
              "      <td>entregue</td>\n",
              "      <td>2017-05-09 11:30:18</td>\n",
              "      <td>2017-05-09 11:45:13</td>\n",
              "      <td>2017-05-19 19:32:55</td>\n",
              "      <td>...</td>\n",
              "      <td>41</td>\n",
              "      <td>1141</td>\n",
              "      <td>1</td>\n",
              "      <td>8683.0</td>\n",
              "      <td>54.0</td>\n",
              "      <td>64.0</td>\n",
              "      <td>31.0</td>\n",
              "      <td>8577</td>\n",
              "      <td>Itaquaquecetuba</td>\n",
              "      <td>SP</td>\n",
              "    </tr>\n",
              "    <tr>\n",
              "      <th>13</th>\n",
              "      <td>62f766c82849282806bf2f62ca86432e</td>\n",
              "      <td>83aca63b2193ea126b287f3ae61528d9</td>\n",
              "      <td>89115</td>\n",
              "      <td>Gaspar</td>\n",
              "      <td>SC</td>\n",
              "      <td>5ee63c8c9ae2e5c38791b35932cf4c69</td>\n",
              "      <td>entregue</td>\n",
              "      <td>2017-05-09 11:30:18</td>\n",
              "      <td>2017-05-09 11:45:13</td>\n",
              "      <td>2017-05-19 19:32:55</td>\n",
              "      <td>...</td>\n",
              "      <td>41</td>\n",
              "      <td>1141</td>\n",
              "      <td>1</td>\n",
              "      <td>8683.0</td>\n",
              "      <td>54.0</td>\n",
              "      <td>64.0</td>\n",
              "      <td>31.0</td>\n",
              "      <td>8577</td>\n",
              "      <td>Itaquaquecetuba</td>\n",
              "      <td>SP</td>\n",
              "    </tr>\n",
              "    <tr>\n",
              "      <th>14</th>\n",
              "      <td>62f766c82849282806bf2f62ca86432e</td>\n",
              "      <td>83aca63b2193ea126b287f3ae61528d9</td>\n",
              "      <td>89115</td>\n",
              "      <td>Gaspar</td>\n",
              "      <td>SC</td>\n",
              "      <td>5ee63c8c9ae2e5c38791b35932cf4c69</td>\n",
              "      <td>entregue</td>\n",
              "      <td>2017-05-09 11:30:18</td>\n",
              "      <td>2017-05-09 11:45:13</td>\n",
              "      <td>2017-05-19 19:32:55</td>\n",
              "      <td>...</td>\n",
              "      <td>41</td>\n",
              "      <td>1141</td>\n",
              "      <td>1</td>\n",
              "      <td>8683.0</td>\n",
              "      <td>54.0</td>\n",
              "      <td>64.0</td>\n",
              "      <td>31.0</td>\n",
              "      <td>8577</td>\n",
              "      <td>Itaquaquecetuba</td>\n",
              "      <td>SP</td>\n",
              "    </tr>\n",
              "    <tr>\n",
              "      <th>15</th>\n",
              "      <td>62f766c82849282806bf2f62ca86432e</td>\n",
              "      <td>83aca63b2193ea126b287f3ae61528d9</td>\n",
              "      <td>89115</td>\n",
              "      <td>Gaspar</td>\n",
              "      <td>SC</td>\n",
              "      <td>5ee63c8c9ae2e5c38791b35932cf4c69</td>\n",
              "      <td>entregue</td>\n",
              "      <td>2017-05-09 11:30:18</td>\n",
              "      <td>2017-05-09 11:45:13</td>\n",
              "      <td>2017-05-19 19:32:55</td>\n",
              "      <td>...</td>\n",
              "      <td>41</td>\n",
              "      <td>1141</td>\n",
              "      <td>1</td>\n",
              "      <td>8683.0</td>\n",
              "      <td>54.0</td>\n",
              "      <td>64.0</td>\n",
              "      <td>31.0</td>\n",
              "      <td>8577</td>\n",
              "      <td>Itaquaquecetuba</td>\n",
              "      <td>SP</td>\n",
              "    </tr>\n",
              "    <tr>\n",
              "      <th>16</th>\n",
              "      <td>62f766c82849282806bf2f62ca86432e</td>\n",
              "      <td>83aca63b2193ea126b287f3ae61528d9</td>\n",
              "      <td>89115</td>\n",
              "      <td>Gaspar</td>\n",
              "      <td>SC</td>\n",
              "      <td>5ee63c8c9ae2e5c38791b35932cf4c69</td>\n",
              "      <td>entregue</td>\n",
              "      <td>2017-05-09 11:30:18</td>\n",
              "      <td>2017-05-09 11:45:13</td>\n",
              "      <td>2017-05-19 19:32:55</td>\n",
              "      <td>...</td>\n",
              "      <td>41</td>\n",
              "      <td>1141</td>\n",
              "      <td>1</td>\n",
              "      <td>8683.0</td>\n",
              "      <td>54.0</td>\n",
              "      <td>64.0</td>\n",
              "      <td>31.0</td>\n",
              "      <td>8577</td>\n",
              "      <td>Itaquaquecetuba</td>\n",
              "      <td>SP</td>\n",
              "    </tr>\n",
              "    <tr>\n",
              "      <th>17</th>\n",
              "      <td>d3286ca43aa21423c6045b2806ca8e56</td>\n",
              "      <td>acd02fc85cf6339f896c161af2b6abcd</td>\n",
              "      <td>96083</td>\n",
              "      <td>Pelotas</td>\n",
              "      <td>RS</td>\n",
              "      <td>b1cc044d321053348a5e482ca7e6b2e3</td>\n",
              "      <td>entregue</td>\n",
              "      <td>2018-01-30 19:29:01</td>\n",
              "      <td>2018-01-30 19:54:04</td>\n",
              "      <td>2018-02-09 13:08:10</td>\n",
              "      <td>...</td>\n",
              "      <td>41</td>\n",
              "      <td>1141</td>\n",
              "      <td>1</td>\n",
              "      <td>8683.0</td>\n",
              "      <td>54.0</td>\n",
              "      <td>64.0</td>\n",
              "      <td>31.0</td>\n",
              "      <td>8577</td>\n",
              "      <td>Itaquaquecetuba</td>\n",
              "      <td>SP</td>\n",
              "    </tr>\n",
              "    <tr>\n",
              "      <th>18</th>\n",
              "      <td>c49bec5f74f0413130abdaed8e7621d0</td>\n",
              "      <td>67d6f91d256bdf128fc960a166f413d5</td>\n",
              "      <td>25640</td>\n",
              "      <td>Petropolis</td>\n",
              "      <td>RJ</td>\n",
              "      <td>0d831c5aa932379c1cf5b0b1b40b214b</td>\n",
              "      <td>entregue</td>\n",
              "      <td>2017-10-13 10:36:54</td>\n",
              "      <td>2017-10-13 10:49:47</td>\n",
              "      <td>2017-10-24 18:58:49</td>\n",
              "      <td>...</td>\n",
              "      <td>41</td>\n",
              "      <td>1141</td>\n",
              "      <td>1</td>\n",
              "      <td>8683.0</td>\n",
              "      <td>54.0</td>\n",
              "      <td>64.0</td>\n",
              "      <td>31.0</td>\n",
              "      <td>8577</td>\n",
              "      <td>Itaquaquecetuba</td>\n",
              "      <td>SP</td>\n",
              "    </tr>\n",
              "    <tr>\n",
              "      <th>19</th>\n",
              "      <td>0058ebe2dc136d918dd001968cfa5903</td>\n",
              "      <td>9e8993ba2665307b71bd1641c2e1cb3d</td>\n",
              "      <td>39495</td>\n",
              "      <td>Montalvania</td>\n",
              "      <td>MG</td>\n",
              "      <td>27ae3ad0516a9b55f2236e24f690e01b</td>\n",
              "      <td>entregue</td>\n",
              "      <td>2017-02-09 16:19:02</td>\n",
              "      <td>2017-02-09 16:30:12</td>\n",
              "      <td>2017-02-22 03:51:44</td>\n",
              "      <td>...</td>\n",
              "      <td>41</td>\n",
              "      <td>1141</td>\n",
              "      <td>1</td>\n",
              "      <td>8683.0</td>\n",
              "      <td>54.0</td>\n",
              "      <td>64.0</td>\n",
              "      <td>31.0</td>\n",
              "      <td>8577</td>\n",
              "      <td>Itaquaquecetuba</td>\n",
              "      <td>SP</td>\n",
              "    </tr>\n",
              "  </tbody>\n",
              "</table>\n",
              "<p>20 rows × 33 columns</p>\n",
              "</div>\n",
              "      <button class=\"colab-df-convert\" onclick=\"convertToInteractive('df-725ffe92-1cd8-4e80-8b1d-c1be7f0c3595')\"\n",
              "              title=\"Convert this dataframe to an interactive table.\"\n",
              "              style=\"display:none;\">\n",
              "        \n",
              "  <svg xmlns=\"http://www.w3.org/2000/svg\" height=\"24px\"viewBox=\"0 0 24 24\"\n",
              "       width=\"24px\">\n",
              "    <path d=\"M0 0h24v24H0V0z\" fill=\"none\"/>\n",
              "    <path d=\"M18.56 5.44l.94 2.06.94-2.06 2.06-.94-2.06-.94-.94-2.06-.94 2.06-2.06.94zm-11 1L8.5 8.5l.94-2.06 2.06-.94-2.06-.94L8.5 2.5l-.94 2.06-2.06.94zm10 10l.94 2.06.94-2.06 2.06-.94-2.06-.94-.94-2.06-.94 2.06-2.06.94z\"/><path d=\"M17.41 7.96l-1.37-1.37c-.4-.4-.92-.59-1.43-.59-.52 0-1.04.2-1.43.59L10.3 9.45l-7.72 7.72c-.78.78-.78 2.05 0 2.83L4 21.41c.39.39.9.59 1.41.59.51 0 1.02-.2 1.41-.59l7.78-7.78 2.81-2.81c.8-.78.8-2.07 0-2.86zM5.41 20L4 18.59l7.72-7.72 1.47 1.35L5.41 20z\"/>\n",
              "  </svg>\n",
              "      </button>\n",
              "      \n",
              "  <style>\n",
              "    .colab-df-container {\n",
              "      display:flex;\n",
              "      flex-wrap:wrap;\n",
              "      gap: 12px;\n",
              "    }\n",
              "\n",
              "    .colab-df-convert {\n",
              "      background-color: #E8F0FE;\n",
              "      border: none;\n",
              "      border-radius: 50%;\n",
              "      cursor: pointer;\n",
              "      display: none;\n",
              "      fill: #1967D2;\n",
              "      height: 32px;\n",
              "      padding: 0 0 0 0;\n",
              "      width: 32px;\n",
              "    }\n",
              "\n",
              "    .colab-df-convert:hover {\n",
              "      background-color: #E2EBFA;\n",
              "      box-shadow: 0px 1px 2px rgba(60, 64, 67, 0.3), 0px 1px 3px 1px rgba(60, 64, 67, 0.15);\n",
              "      fill: #174EA6;\n",
              "    }\n",
              "\n",
              "    [theme=dark] .colab-df-convert {\n",
              "      background-color: #3B4455;\n",
              "      fill: #D2E3FC;\n",
              "    }\n",
              "\n",
              "    [theme=dark] .colab-df-convert:hover {\n",
              "      background-color: #434B5C;\n",
              "      box-shadow: 0px 1px 3px 1px rgba(0, 0, 0, 0.15);\n",
              "      filter: drop-shadow(0px 1px 2px rgba(0, 0, 0, 0.3));\n",
              "      fill: #FFFFFF;\n",
              "    }\n",
              "  </style>\n",
              "\n",
              "      <script>\n",
              "        const buttonEl =\n",
              "          document.querySelector('#df-725ffe92-1cd8-4e80-8b1d-c1be7f0c3595 button.colab-df-convert');\n",
              "        buttonEl.style.display =\n",
              "          google.colab.kernel.accessAllowed ? 'block' : 'none';\n",
              "\n",
              "        async function convertToInteractive(key) {\n",
              "          const element = document.querySelector('#df-725ffe92-1cd8-4e80-8b1d-c1be7f0c3595');\n",
              "          const dataTable =\n",
              "            await google.colab.kernel.invokeFunction('convertToInteractive',\n",
              "                                                     [key], {});\n",
              "          if (!dataTable) return;\n",
              "\n",
              "          const docLinkHtml = 'Like what you see? Visit the ' +\n",
              "            '<a target=\"_blank\" href=https://colab.research.google.com/notebooks/data_table.ipynb>data table notebook</a>'\n",
              "            + ' to learn more about interactive tables.';\n",
              "          element.innerHTML = '';\n",
              "          dataTable['output_type'] = 'display_data';\n",
              "          await google.colab.output.renderOutput(dataTable, element);\n",
              "          const docLink = document.createElement('div');\n",
              "          docLink.innerHTML = docLinkHtml;\n",
              "          element.appendChild(docLink);\n",
              "        }\n",
              "      </script>\n",
              "    </div>\n",
              "  </div>\n",
              "  "
            ]
          },
          "metadata": {},
          "execution_count": 847
        }
      ]
    },
    {
      "cell_type": "markdown",
      "source": [
        "#### 6. Criando colunas de \"tempo_entrega\", \"tempo_aprovado\" e \"dia_da_compra\" para auxiliar nas análises"
      ],
      "metadata": {
        "id": "DSakV1t7qwII"
      }
    },
    {
      "cell_type": "markdown",
      "source": [
        "##### 6.1 \"tempo_entrega\""
      ],
      "metadata": {
        "id": "E0m1_LMjNYQo"
      }
    },
    {
      "cell_type": "code",
      "source": [
        "# Calcular a diferença entre as datas e converter para dias\n",
        "dados_olist['tempo_entrega'] = (dados_olist['pedido_entrega_datahora'] - dados_olist['pedido_compra_datahora'])\n",
        "dados_olist['tempo_entrega'] = dados_olist['tempo_entrega'].dt.days"
      ],
      "metadata": {
        "id": "buiOKZi0q6x5"
      },
      "execution_count": null,
      "outputs": []
    },
    {
      "cell_type": "markdown",
      "source": [
        "Conferindo se existem valores negativos na coluna criada"
      ],
      "metadata": {
        "id": "HGNZgIQFLSlP"
      }
    },
    {
      "cell_type": "code",
      "source": [
        "count = dados_olist[dados_olist['tempo_entrega'] < 0]['tempo_entrega'].count()\n",
        "print(f\"O número de linhas onde 'tempo_entrega' é menor que zero é: {count}\")"
      ],
      "metadata": {
        "colab": {
          "base_uri": "https://localhost:8080/"
        },
        "id": "h8LOFHYWLuUE",
        "outputId": "8b4f8730-e929-4ee7-db7a-a223e388a193"
      },
      "execution_count": null,
      "outputs": [
        {
          "output_type": "stream",
          "name": "stdout",
          "text": [
            "O número de linhas onde 'tempo_entrega' é menor que zero é: 0\n"
          ]
        }
      ]
    },
    {
      "cell_type": "markdown",
      "source": [
        "##### 6.2 'tempo_aprovacao'"
      ],
      "metadata": {
        "id": "3sPovXNTNsS7"
      }
    },
    {
      "cell_type": "code",
      "source": [
        "# O tempo de aprovação será calculado em horas e não em dias\n",
        "dados_olist['tempo_aprovacao'] = (dados_olist['pedido_aprovado_datahora'] - dados_olist['pedido_compra_datahora'])\n",
        "dados_olist['tempo_aprovacao'] = dados_olist['tempo_aprovacao'].dt.seconds/3600"
      ],
      "metadata": {
        "id": "uZ61XyJDq6mx"
      },
      "execution_count": null,
      "outputs": []
    },
    {
      "cell_type": "markdown",
      "source": [
        "Conferindo se existem valores negativos na nova coluna"
      ],
      "metadata": {
        "id": "3_fymZKNNzEj"
      }
    },
    {
      "cell_type": "code",
      "source": [
        "count = dados_olist[dados_olist['tempo_aprovacao'] < 0]['tempo_aprovacao'].count()\n",
        "print(f\"O número de linhas onde 'tempo_aprovacao' é menor que zero é: {count}\")"
      ],
      "metadata": {
        "colab": {
          "base_uri": "https://localhost:8080/"
        },
        "id": "whtosAFbN1ue",
        "outputId": "213f6683-765a-4a66-b92f-800a1ee0a561"
      },
      "execution_count": null,
      "outputs": [
        {
          "output_type": "stream",
          "name": "stdout",
          "text": [
            "O número de linhas onde 'tempo_aprovacao' é menor que zero é: 0\n"
          ]
        }
      ]
    },
    {
      "cell_type": "markdown",
      "source": [
        "##### 6.3 'dia_da_compra'"
      ],
      "metadata": {
        "id": "i1QW2sv5N93W"
      }
    },
    {
      "cell_type": "code",
      "source": [
        "# adiciona uma nova coluna com o nome do dia da semana de cada pedido\n",
        "dados_olist['dia_da_compra'] = dados_olist['pedido_compra_datahora'].dt.day_name()"
      ],
      "metadata": {
        "id": "HHWiAUccq6e-"
      },
      "execution_count": null,
      "outputs": []
    },
    {
      "cell_type": "code",
      "source": [
        "dados_olist.head()"
      ],
      "metadata": {
        "colab": {
          "base_uri": "https://localhost:8080/",
          "height": 299
        },
        "id": "uTl-jZcfq6SB",
        "outputId": "d72ce936-297c-4a79-d3e5-4e510db441d8"
      },
      "execution_count": null,
      "outputs": [
        {
          "output_type": "execute_result",
          "data": {
            "text/plain": [
              "                         cliente_id                  cliente_id_unico  \\\n",
              "0  06b8999e2fba1a1fbc88172c00ba8bc7  861eff4711a542e4b93843c6dd7febb0   \n",
              "1  8912fc0c3bbf1e2fbf35819e21706718  9eae34bbd3a474ec5d07949ca7de67c0   \n",
              "2  8912fc0c3bbf1e2fbf35819e21706718  9eae34bbd3a474ec5d07949ca7de67c0   \n",
              "3  f0ac8e5a239118859b1734e1087cbb1f  3c799d181c34d51f6d44bbbc563024db   \n",
              "4  6bc8d08963a135220ed6c6d098831f84  23397e992b09769faf5e66f9e171a241   \n",
              "\n",
              "  cliente_cep_prefixo   cliente_cidade cliente_estado  \\\n",
              "0               14409           Franca             SP   \n",
              "1               68030         Santarem             PA   \n",
              "2               68030         Santarem             PA   \n",
              "3               92480  Nova Santa Rita             RS   \n",
              "4               25931             Mage             RJ   \n",
              "\n",
              "                          pedido_id pedido_status pedido_compra_datahora  \\\n",
              "0  00e7ee1b050b8499577073aeb2a297a1      entregue    2017-05-16 15:05:35   \n",
              "1  c1d2b34febe9cd269e378117d6681172      entregue    2017-11-09 00:50:13   \n",
              "2  c1d2b34febe9cd269e378117d6681172      entregue    2017-11-09 00:50:13   \n",
              "3  b1a5d5365d330d10485e0203d54ab9e8      entregue    2017-05-07 20:11:26   \n",
              "4  2e604b3614664aa66867856dba7e61b7      entregue    2018-02-03 19:45:40   \n",
              "\n",
              "  pedido_aprovado_datahora pedido_postagem_datahora  ... produto_peso_g  \\\n",
              "0      2017-05-16 15:22:12      2017-05-23 10:47:57  ...         8683.0   \n",
              "1      2017-11-10 00:47:48      2017-11-22 01:43:37  ...         8683.0   \n",
              "2      2017-11-10 00:47:48      2017-11-22 01:43:37  ...         8683.0   \n",
              "3      2017-05-08 22:22:56      2017-05-19 20:16:31  ...         8683.0   \n",
              "4      2018-02-04 22:29:19      2018-02-19 18:21:47  ...         8683.0   \n",
              "\n",
              "  produto_comprimento_cm produto_altura_cm produto_largura_cm  \\\n",
              "0                   54.0              64.0               31.0   \n",
              "1                   54.0              64.0               31.0   \n",
              "2                   54.0              64.0               31.0   \n",
              "3                   54.0              64.0               31.0   \n",
              "4                   54.0              64.0               31.0   \n",
              "\n",
              "  vendedor_cep_prefixo  vendedor_cidade  vendedor_estado  tempo_entrega  \\\n",
              "0                 8577  Itaquaquecetuba               SP              8   \n",
              "1                 8577  Itaquaquecetuba               SP             18   \n",
              "2                 8577  Itaquaquecetuba               SP             18   \n",
              "3                 8577  Itaquaquecetuba               SP             18   \n",
              "4                 8577  Itaquaquecetuba               SP             25   \n",
              "\n",
              "   tempo_aprovacao dia_da_compra  \n",
              "0         0.276944       Tuesday  \n",
              "1        23.959722      Thursday  \n",
              "2        23.959722      Thursday  \n",
              "3         2.191667        Sunday  \n",
              "4         2.727500      Saturday  \n",
              "\n",
              "[5 rows x 36 columns]"
            ],
            "text/html": [
              "\n",
              "  <div id=\"df-8922aca4-ffd9-4740-8b91-dbece383a98f\">\n",
              "    <div class=\"colab-df-container\">\n",
              "      <div>\n",
              "<style scoped>\n",
              "    .dataframe tbody tr th:only-of-type {\n",
              "        vertical-align: middle;\n",
              "    }\n",
              "\n",
              "    .dataframe tbody tr th {\n",
              "        vertical-align: top;\n",
              "    }\n",
              "\n",
              "    .dataframe thead th {\n",
              "        text-align: right;\n",
              "    }\n",
              "</style>\n",
              "<table border=\"1\" class=\"dataframe\">\n",
              "  <thead>\n",
              "    <tr style=\"text-align: right;\">\n",
              "      <th></th>\n",
              "      <th>cliente_id</th>\n",
              "      <th>cliente_id_unico</th>\n",
              "      <th>cliente_cep_prefixo</th>\n",
              "      <th>cliente_cidade</th>\n",
              "      <th>cliente_estado</th>\n",
              "      <th>pedido_id</th>\n",
              "      <th>pedido_status</th>\n",
              "      <th>pedido_compra_datahora</th>\n",
              "      <th>pedido_aprovado_datahora</th>\n",
              "      <th>pedido_postagem_datahora</th>\n",
              "      <th>...</th>\n",
              "      <th>produto_peso_g</th>\n",
              "      <th>produto_comprimento_cm</th>\n",
              "      <th>produto_altura_cm</th>\n",
              "      <th>produto_largura_cm</th>\n",
              "      <th>vendedor_cep_prefixo</th>\n",
              "      <th>vendedor_cidade</th>\n",
              "      <th>vendedor_estado</th>\n",
              "      <th>tempo_entrega</th>\n",
              "      <th>tempo_aprovacao</th>\n",
              "      <th>dia_da_compra</th>\n",
              "    </tr>\n",
              "  </thead>\n",
              "  <tbody>\n",
              "    <tr>\n",
              "      <th>0</th>\n",
              "      <td>06b8999e2fba1a1fbc88172c00ba8bc7</td>\n",
              "      <td>861eff4711a542e4b93843c6dd7febb0</td>\n",
              "      <td>14409</td>\n",
              "      <td>Franca</td>\n",
              "      <td>SP</td>\n",
              "      <td>00e7ee1b050b8499577073aeb2a297a1</td>\n",
              "      <td>entregue</td>\n",
              "      <td>2017-05-16 15:05:35</td>\n",
              "      <td>2017-05-16 15:22:12</td>\n",
              "      <td>2017-05-23 10:47:57</td>\n",
              "      <td>...</td>\n",
              "      <td>8683.0</td>\n",
              "      <td>54.0</td>\n",
              "      <td>64.0</td>\n",
              "      <td>31.0</td>\n",
              "      <td>8577</td>\n",
              "      <td>Itaquaquecetuba</td>\n",
              "      <td>SP</td>\n",
              "      <td>8</td>\n",
              "      <td>0.276944</td>\n",
              "      <td>Tuesday</td>\n",
              "    </tr>\n",
              "    <tr>\n",
              "      <th>1</th>\n",
              "      <td>8912fc0c3bbf1e2fbf35819e21706718</td>\n",
              "      <td>9eae34bbd3a474ec5d07949ca7de67c0</td>\n",
              "      <td>68030</td>\n",
              "      <td>Santarem</td>\n",
              "      <td>PA</td>\n",
              "      <td>c1d2b34febe9cd269e378117d6681172</td>\n",
              "      <td>entregue</td>\n",
              "      <td>2017-11-09 00:50:13</td>\n",
              "      <td>2017-11-10 00:47:48</td>\n",
              "      <td>2017-11-22 01:43:37</td>\n",
              "      <td>...</td>\n",
              "      <td>8683.0</td>\n",
              "      <td>54.0</td>\n",
              "      <td>64.0</td>\n",
              "      <td>31.0</td>\n",
              "      <td>8577</td>\n",
              "      <td>Itaquaquecetuba</td>\n",
              "      <td>SP</td>\n",
              "      <td>18</td>\n",
              "      <td>23.959722</td>\n",
              "      <td>Thursday</td>\n",
              "    </tr>\n",
              "    <tr>\n",
              "      <th>2</th>\n",
              "      <td>8912fc0c3bbf1e2fbf35819e21706718</td>\n",
              "      <td>9eae34bbd3a474ec5d07949ca7de67c0</td>\n",
              "      <td>68030</td>\n",
              "      <td>Santarem</td>\n",
              "      <td>PA</td>\n",
              "      <td>c1d2b34febe9cd269e378117d6681172</td>\n",
              "      <td>entregue</td>\n",
              "      <td>2017-11-09 00:50:13</td>\n",
              "      <td>2017-11-10 00:47:48</td>\n",
              "      <td>2017-11-22 01:43:37</td>\n",
              "      <td>...</td>\n",
              "      <td>8683.0</td>\n",
              "      <td>54.0</td>\n",
              "      <td>64.0</td>\n",
              "      <td>31.0</td>\n",
              "      <td>8577</td>\n",
              "      <td>Itaquaquecetuba</td>\n",
              "      <td>SP</td>\n",
              "      <td>18</td>\n",
              "      <td>23.959722</td>\n",
              "      <td>Thursday</td>\n",
              "    </tr>\n",
              "    <tr>\n",
              "      <th>3</th>\n",
              "      <td>f0ac8e5a239118859b1734e1087cbb1f</td>\n",
              "      <td>3c799d181c34d51f6d44bbbc563024db</td>\n",
              "      <td>92480</td>\n",
              "      <td>Nova Santa Rita</td>\n",
              "      <td>RS</td>\n",
              "      <td>b1a5d5365d330d10485e0203d54ab9e8</td>\n",
              "      <td>entregue</td>\n",
              "      <td>2017-05-07 20:11:26</td>\n",
              "      <td>2017-05-08 22:22:56</td>\n",
              "      <td>2017-05-19 20:16:31</td>\n",
              "      <td>...</td>\n",
              "      <td>8683.0</td>\n",
              "      <td>54.0</td>\n",
              "      <td>64.0</td>\n",
              "      <td>31.0</td>\n",
              "      <td>8577</td>\n",
              "      <td>Itaquaquecetuba</td>\n",
              "      <td>SP</td>\n",
              "      <td>18</td>\n",
              "      <td>2.191667</td>\n",
              "      <td>Sunday</td>\n",
              "    </tr>\n",
              "    <tr>\n",
              "      <th>4</th>\n",
              "      <td>6bc8d08963a135220ed6c6d098831f84</td>\n",
              "      <td>23397e992b09769faf5e66f9e171a241</td>\n",
              "      <td>25931</td>\n",
              "      <td>Mage</td>\n",
              "      <td>RJ</td>\n",
              "      <td>2e604b3614664aa66867856dba7e61b7</td>\n",
              "      <td>entregue</td>\n",
              "      <td>2018-02-03 19:45:40</td>\n",
              "      <td>2018-02-04 22:29:19</td>\n",
              "      <td>2018-02-19 18:21:47</td>\n",
              "      <td>...</td>\n",
              "      <td>8683.0</td>\n",
              "      <td>54.0</td>\n",
              "      <td>64.0</td>\n",
              "      <td>31.0</td>\n",
              "      <td>8577</td>\n",
              "      <td>Itaquaquecetuba</td>\n",
              "      <td>SP</td>\n",
              "      <td>25</td>\n",
              "      <td>2.727500</td>\n",
              "      <td>Saturday</td>\n",
              "    </tr>\n",
              "  </tbody>\n",
              "</table>\n",
              "<p>5 rows × 36 columns</p>\n",
              "</div>\n",
              "      <button class=\"colab-df-convert\" onclick=\"convertToInteractive('df-8922aca4-ffd9-4740-8b91-dbece383a98f')\"\n",
              "              title=\"Convert this dataframe to an interactive table.\"\n",
              "              style=\"display:none;\">\n",
              "        \n",
              "  <svg xmlns=\"http://www.w3.org/2000/svg\" height=\"24px\"viewBox=\"0 0 24 24\"\n",
              "       width=\"24px\">\n",
              "    <path d=\"M0 0h24v24H0V0z\" fill=\"none\"/>\n",
              "    <path d=\"M18.56 5.44l.94 2.06.94-2.06 2.06-.94-2.06-.94-.94-2.06-.94 2.06-2.06.94zm-11 1L8.5 8.5l.94-2.06 2.06-.94-2.06-.94L8.5 2.5l-.94 2.06-2.06.94zm10 10l.94 2.06.94-2.06 2.06-.94-2.06-.94-.94-2.06-.94 2.06-2.06.94z\"/><path d=\"M17.41 7.96l-1.37-1.37c-.4-.4-.92-.59-1.43-.59-.52 0-1.04.2-1.43.59L10.3 9.45l-7.72 7.72c-.78.78-.78 2.05 0 2.83L4 21.41c.39.39.9.59 1.41.59.51 0 1.02-.2 1.41-.59l7.78-7.78 2.81-2.81c.8-.78.8-2.07 0-2.86zM5.41 20L4 18.59l7.72-7.72 1.47 1.35L5.41 20z\"/>\n",
              "  </svg>\n",
              "      </button>\n",
              "      \n",
              "  <style>\n",
              "    .colab-df-container {\n",
              "      display:flex;\n",
              "      flex-wrap:wrap;\n",
              "      gap: 12px;\n",
              "    }\n",
              "\n",
              "    .colab-df-convert {\n",
              "      background-color: #E8F0FE;\n",
              "      border: none;\n",
              "      border-radius: 50%;\n",
              "      cursor: pointer;\n",
              "      display: none;\n",
              "      fill: #1967D2;\n",
              "      height: 32px;\n",
              "      padding: 0 0 0 0;\n",
              "      width: 32px;\n",
              "    }\n",
              "\n",
              "    .colab-df-convert:hover {\n",
              "      background-color: #E2EBFA;\n",
              "      box-shadow: 0px 1px 2px rgba(60, 64, 67, 0.3), 0px 1px 3px 1px rgba(60, 64, 67, 0.15);\n",
              "      fill: #174EA6;\n",
              "    }\n",
              "\n",
              "    [theme=dark] .colab-df-convert {\n",
              "      background-color: #3B4455;\n",
              "      fill: #D2E3FC;\n",
              "    }\n",
              "\n",
              "    [theme=dark] .colab-df-convert:hover {\n",
              "      background-color: #434B5C;\n",
              "      box-shadow: 0px 1px 3px 1px rgba(0, 0, 0, 0.15);\n",
              "      filter: drop-shadow(0px 1px 2px rgba(0, 0, 0, 0.3));\n",
              "      fill: #FFFFFF;\n",
              "    }\n",
              "  </style>\n",
              "\n",
              "      <script>\n",
              "        const buttonEl =\n",
              "          document.querySelector('#df-8922aca4-ffd9-4740-8b91-dbece383a98f button.colab-df-convert');\n",
              "        buttonEl.style.display =\n",
              "          google.colab.kernel.accessAllowed ? 'block' : 'none';\n",
              "\n",
              "        async function convertToInteractive(key) {\n",
              "          const element = document.querySelector('#df-8922aca4-ffd9-4740-8b91-dbece383a98f');\n",
              "          const dataTable =\n",
              "            await google.colab.kernel.invokeFunction('convertToInteractive',\n",
              "                                                     [key], {});\n",
              "          if (!dataTable) return;\n",
              "\n",
              "          const docLinkHtml = 'Like what you see? Visit the ' +\n",
              "            '<a target=\"_blank\" href=https://colab.research.google.com/notebooks/data_table.ipynb>data table notebook</a>'\n",
              "            + ' to learn more about interactive tables.';\n",
              "          element.innerHTML = '';\n",
              "          dataTable['output_type'] = 'display_data';\n",
              "          await google.colab.output.renderOutput(dataTable, element);\n",
              "          const docLink = document.createElement('div');\n",
              "          docLink.innerHTML = docLinkHtml;\n",
              "          element.appendChild(docLink);\n",
              "        }\n",
              "      </script>\n",
              "    </div>\n",
              "  </div>\n",
              "  "
            ]
          },
          "metadata": {},
          "execution_count": 853
        }
      ]
    },
    {
      "cell_type": "markdown",
      "source": [
        "## Conclusão"
      ],
      "metadata": {
        "id": "qMIgVjx8nDpp"
      }
    },
    {
      "cell_type": "markdown",
      "source": [
        "FALTA:\n",
        "\n",
        "\n",
        "\n",
        "1.   Escrever a indrodução\n",
        "2.   Escrever a conclusão\n",
        "3. Descobrir como subir isso pro GItHub\n"
      ],
      "metadata": {
        "id": "4aW3YR0NnHIr"
      }
    },
    {
      "cell_type": "code",
      "source": [],
      "metadata": {
        "id": "Fqi3DWaJUwet"
      },
      "execution_count": null,
      "outputs": []
    }
  ]
}